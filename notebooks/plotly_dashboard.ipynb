{
 "cells": [
  {
   "cell_type": "code",
   "execution_count": 12,
   "id": "2e4378e5",
   "metadata": {},
   "outputs": [
    {
     "data": {
      "text/plain": [
       "'/Users/meghanathota/retail_project/reports/retail_dashboard.html'"
      ]
     },
     "execution_count": 12,
     "metadata": {},
     "output_type": "execute_result"
    }
   ],
   "source": [
    "import plotly.io as pio\n",
    "REPORTS = (BASE / \"reports\")\n",
    "REPORTS.mkdir(exist_ok=True)\n",
    "out = REPORTS / \"retail_dashboard.html\"\n",
    "pio.write_html(dashboard, file=str(out), include_plotlyjs=\"cdn\", full_html=True)\n",
    "out.as_posix()\n"
   ]
  },
  {
   "cell_type": "code",
   "execution_count": 13,
   "id": "21a18ddc",
   "metadata": {},
   "outputs": [],
   "source": [
    "from pathlib import Path\n",
    "import numpy as np\n",
    "import pandas as pd\n",
    "import plotly.express as px\n",
    "import plotly.graph_objects as go\n",
    "from plotly.subplots import make_subplots\n",
    "import plotly.io as pio\n",
    "\n",
    "# project paths\n",
    "BASE = Path.cwd().parents[0] if Path.cwd().name == \"notebooks\" else Path.cwd()\n",
    "GOLD = BASE / \"data\" / \"gold\"\n",
    "REPORTS = BASE / \"reports\"\n",
    "REPORTS.mkdir(exist_ok=True)\n",
    "\n",
    "monthly_dir = GOLD / \"monthly_revenue\"\n",
    "cat_dir     = GOLD / \"monthly_revenue_by_category\"   # optional\n"
   ]
  },
  {
   "cell_type": "code",
   "execution_count": 17,
   "id": "e76a6110",
   "metadata": {},
   "outputs": [],
   "source": [
    "def read_spark_csv_folder(folder: Path) -> pd.DataFrame:\n",
    "    files = list(folder.glob(\"*.csv\")) or list(folder.rglob(\"*.csv\"))\n",
    "    if not files:\n",
    "        raise FileNotFoundError(f\"No CSV files in {folder}\")\n",
    "    return pd.concat([pd.read_csv(f) for f in files], ignore_index=True)\n",
    "\n",
    "def to_month_index(df, year_col=\"year\", month_col=\"month\"):\n",
    "    df[year_col]  = df[year_col].astype(int)\n",
    "    df[month_col] = df[month_col].astype(int)\n",
    "    df[\"date\"]    = pd.to_datetime(df[year_col].astype(str) + \"-\" + df[month_col].astype(str) + \"-01\")\n",
    "    return df.sort_values(\"date\")\n",
    "\n",
    "def format_money(x):\n",
    "    if pd.isna(x): return \"-\"\n",
    "    if abs(x) >= 1_000_000:\n",
    "        return f\"${x/1_000_000:.2f}M\"\n",
    "000:\n",
    "        return f\"${x/1_000:.1f}K\"\n",
    "    return f\"${x:,.0f}\"\n",
    "\n"
   ]
  },
  {
   "cell_type": "code",
   "execution_count": 18,
   "id": "acdb8099",
   "metadata": {},
   "outputs": [
    {
     "data": {
      "text/html": [
       "<div>\n",
       "<style scoped>\n",
       "    .dataframe tbody tr th:only-of-type {\n",
       "        vertical-align: middle;\n",
       "    }\n",
       "\n",
       "    .dataframe tbody tr th {\n",
       "        vertical-align: top;\n",
       "    }\n",
       "\n",
       "    .dataframe thead th {\n",
       "        text-align: right;\n",
       "    }\n",
       "</style>\n",
       "<table border=\"1\" class=\"dataframe\">\n",
       "  <thead>\n",
       "    <tr style=\"text-align: right;\">\n",
       "      <th></th>\n",
       "      <th>date</th>\n",
       "      <th>year</th>\n",
       "      <th>month</th>\n",
       "      <th>revenue</th>\n",
       "    </tr>\n",
       "  </thead>\n",
       "  <tbody>\n",
       "    <tr>\n",
       "      <th>0</th>\n",
       "      <td>2011-01-01</td>\n",
       "      <td>2011</td>\n",
       "      <td>1</td>\n",
       "      <td>277864.0</td>\n",
       "    </tr>\n",
       "    <tr>\n",
       "      <th>1</th>\n",
       "      <td>2011-02-01</td>\n",
       "      <td>2011</td>\n",
       "      <td>2</td>\n",
       "      <td>168114.0</td>\n",
       "    </tr>\n",
       "    <tr>\n",
       "      <th>2</th>\n",
       "      <td>2011-03-01</td>\n",
       "      <td>2011</td>\n",
       "      <td>3</td>\n",
       "      <td>261895.0</td>\n",
       "    </tr>\n",
       "    <tr>\n",
       "      <th>3</th>\n",
       "      <td>2011-04-01</td>\n",
       "      <td>2011</td>\n",
       "      <td>4</td>\n",
       "      <td>182323.0</td>\n",
       "    </tr>\n",
       "    <tr>\n",
       "      <th>4</th>\n",
       "      <td>2011-05-01</td>\n",
       "      <td>2011</td>\n",
       "      <td>5</td>\n",
       "      <td>182691.0</td>\n",
       "    </tr>\n",
       "  </tbody>\n",
       "</table>\n",
       "</div>"
      ],
      "text/plain": [
       "        date  year  month   revenue\n",
       "0 2011-01-01  2011      1  277864.0\n",
       "1 2011-02-01  2011      2  168114.0\n",
       "2 2011-03-01  2011      3  261895.0\n",
       "3 2011-04-01  2011      4  182323.0\n",
       "4 2011-05-01  2011      5  182691.0"
      ]
     },
     "execution_count": 18,
     "metadata": {},
     "output_type": "execute_result"
    }
   ],
   "source": [
    "monthly = read_spark_csv_folder(monthly_dir)\n",
    "monthly.columns = [c.strip().lower() for c in monthly.columns]\n",
    "monthly = to_month_index(monthly, \"year\", \"month\")\n",
    "monthly = monthly.rename(columns={\"total_sales\":\"revenue\"})\n",
    "monthly = monthly[[\"date\",\"year\",\"month\",\"revenue\"]]\n",
    "\n",
    "# optional by-category\n",
    "try:\n",
    "    monthly_cat = read_spark_csv_folder(cat_dir)\n",
    "    monthly_cat.columns = [c.strip().lower() for c in monthly_cat.columns]\n",
    "    # figure out category column name\n",
    "    cat_col = next((c for c in monthly_cat.columns if c not in {\"year\",\"month\",\"total_sales\"}), None)\n",
    "    if cat_col:\n",
    "        monthly_cat = to_month_index(monthly_cat, \"year\", \"month\")\n",
    "        monthly_cat = monthly_cat.rename(columns={\"total_sales\":\"revenue\"})\n",
    "        monthly_cat = monthly_cat[[\"date\",\"year\",\"month\",cat_col,\"revenue\"]]\n",
    "    else:\n",
    "        monthly_cat = None\n",
    "except FileNotFoundError:\n",
    "    monthly_cat = None\n",
    "\n",
    "monthly.head()\n"
   ]
  },
  {
   "cell_type": "code",
   "execution_count": 22,
   "id": "cfb1d581",
   "metadata": {},
   "outputs": [],
   "source": [
    "# fill missing months (so charts are smooth)\n",
    "midx = pd.period_range(monthly[\"date\"].min(), monthly[\"date\"].max(), freq=\"M\").to_timestamp()\n",
    "monthly = monthly.set_index(\"date\").reindex(midx).rename_axis(\"date\").reset_index()\n",
    "monthly[\"year\"]  = monthly[\"date\"].dt.year\n",
    "monthly[\"month\"] = monthly[\"date\"].dt.month\n",
    "monthly[\"revenue\"] = monthly[\"revenue\"].fillna(0.0)\n",
    "\n",
    "# KPIs\n",
    "last = monthly.iloc[-1][\"revenue\"]\n",
    "prev = monthly.iloc[-2][\"revenue\"] if len(monthly) > 1 else np.nan\n",
    "last_year = monthly.iloc[-13][\"revenue\"] if len(monthly) > 12 else np.nan\n",
    "\n",
    "mom = (last - prev) / prev * 100 if prev and prev != 0 else np.nan\n",
    "yoy = (last - last_year) / last_year * 100 if last_year and last_year != 0 else np.nan\n",
    "ytd = monthly[monthly[\"date\"].dt.year == monthly[\"date\"].max().year][\"revenue\"].sum()\n",
    "\n",
    "# anomalies and rolling mean\n",
    "window = 6\n",
    "monthly[\"ma\"]   = monthly[\"revenue\"].rolling(window, min_periods=3).mean()\n",
    "monthly[\"std\"]  = monthly[\"revenue\"].rolling(window, min_periods=3).std()\n",
    "monthly[\"z\"]    = (monthly[\"revenue\"] - monthly[\"ma\"]) / monthly[\"std\"]\n",
    "monthly[\"anomaly\"] = (monthly[\"z\"].abs() >= 2.0)\n",
    "\n",
    "monthly[\"band_low\"]  = (monthly[\"ma\"] - monthly[\"std\"]).clip(lower=0)\n",
    "monthly[\"band_high\"] = (monthly[\"ma\"] + monthly[\"std\"])\n",
    "\n"
   ]
  },
  {
   "cell_type": "code",
   "execution_count": 23,
   "id": "3d61feeb",
   "metadata": {},
   "outputs": [
    {
     "data": {
      "text/plain": [
       "{'Revenue (latest)': '$1.31M',\n",
       " 'MoM': '+26.6%',\n",
       " 'YoY': '+71.3%',\n",
       " 'YTD': '$8.06M'}"
      ]
     },
     "execution_count": 23,
     "metadata": {},
     "output_type": "execute_result"
    }
   ],
   "source": [
    "# sparkline\n",
    "sparkline = go.Figure(go.Scatter(\n",
    "    x=monthly[\"date\"], y=monthly[\"revenue\"], mode=\"lines\",\n",
    "    hoverinfo=\"x+y\", name=\"Revenue\"\n",
    "))\n",
    "sparkline.update_layout(margin=dict(l=0,r=0,t=0,b=0), height=80, showlegend=False)\n",
    "sparkline.update_yaxes(visible=False); sparkline.update_xaxes(visible=False)\n",
    "\n",
    "kpi_text = {\n",
    "    \"Revenue (latest)\": format_money(last),\n",
    "    \"MoM\": (f\"{mom:+.1f}%\" if pd.notna(mom) else \"-\"),\n",
    "    \"YoY\": (f\"{yoy:+.1f}%\" if pd.notna(yoy) else \"-\"),\n",
    "    \"YTD\": format_money(ytd),\n",
    "}\n",
    "kpi_text\n"
   ]
  },
  {
   "cell_type": "code",
   "execution_count": 24,
   "id": "98a50301",
   "metadata": {},
   "outputs": [
    {
     "data": {
      "application/vnd.plotly.v1+json": {
       "config": {
        "plotlyServerURL": "https://plot.ly"
       },
       "data": [
        {
         "hoverinfo": "skip",
         "line": {
          "width": 0
         },
         "name": "Upper Band",
         "showlegend": false,
         "type": "scatter",
         "x": [
          "2011-01-01T00:00:00",
          "2011-02-01T00:00:00",
          "2011-03-01T00:00:00",
          "2011-04-01T00:00:00",
          "2011-05-01T00:00:00",
          "2011-06-01T00:00:00",
          "2011-07-01T00:00:00",
          "2011-08-01T00:00:00",
          "2011-09-01T00:00:00",
          "2011-10-01T00:00:00",
          "2011-11-01T00:00:00",
          "2011-12-01T00:00:00",
          "2012-01-01T00:00:00",
          "2012-02-01T00:00:00",
          "2012-03-01T00:00:00",
          "2012-04-01T00:00:00",
          "2012-05-01T00:00:00",
          "2012-06-01T00:00:00",
          "2012-07-01T00:00:00",
          "2012-08-01T00:00:00",
          "2012-09-01T00:00:00",
          "2012-10-01T00:00:00",
          "2012-11-01T00:00:00",
          "2012-12-01T00:00:00",
          "2013-01-01T00:00:00",
          "2013-02-01T00:00:00",
          "2013-03-01T00:00:00",
          "2013-04-01T00:00:00",
          "2013-05-01T00:00:00",
          "2013-06-01T00:00:00",
          "2013-07-01T00:00:00",
          "2013-08-01T00:00:00",
          "2013-09-01T00:00:00",
          "2013-10-01T00:00:00",
          "2013-11-01T00:00:00",
          "2013-12-01T00:00:00",
          "2014-01-01T00:00:00",
          "2014-02-01T00:00:00",
          "2014-03-01T00:00:00",
          "2014-04-01T00:00:00",
          "2014-05-01T00:00:00",
          "2014-06-01T00:00:00",
          "2014-07-01T00:00:00",
          "2014-08-01T00:00:00",
          "2014-09-01T00:00:00",
          "2014-10-01T00:00:00",
          "2014-11-01T00:00:00",
          "2014-12-01T00:00:00"
         ],
         "y": [
          null,
          null,
          295252.0556957589,
          277893.84993203974,
          265714.6793889155,
          270328.5118394017,
          294413.5336625939,
          317440.9011134017,
          422349.2794339337,
          446906.69442461384,
          511797.8501098043,
          542243.2543875024,
          558725.1815572556,
          562461.5014282952,
          517626.2632745981,
          496807.4232377485,
          449273.5842192687,
          400005.74778342515,
          405427.1769719226,
          426726.59345451556,
          572551.48771019,
          570782.6827554217,
          634852.737317712,
          653103.8998496224,
          657760.0313079369,
          652957.8187416919,
          554165.513443247,
          563339.5380531452,
          476323.91379491665,
          540663.637133875,
          551502.6542283423,
          564627.8210532558,
          758054.1302368446,
          780217.3651852702,
          802374.5238579751,
          829751.9342431759,
          832365.7613334989,
          841910.2020233506,
          707326.892323706,
          670781.9460087266,
          635596.6351794464,
          648608.4557464013,
          662342.7105397843,
          697362.3999851203,
          824040.8903073568,
          865154.2078004109,
          972733.5888572598,
          1156648.9033058034
         ]
        },
        {
         "fill": "tonexty",
         "hoverinfo": "skip",
         "line": {
          "width": 0
         },
         "name": "Confidence Band",
         "opacity": 0.2,
         "type": "scatter",
         "x": [
          "2011-01-01T00:00:00",
          "2011-02-01T00:00:00",
          "2011-03-01T00:00:00",
          "2011-04-01T00:00:00",
          "2011-05-01T00:00:00",
          "2011-06-01T00:00:00",
          "2011-07-01T00:00:00",
          "2011-08-01T00:00:00",
          "2011-09-01T00:00:00",
          "2011-10-01T00:00:00",
          "2011-11-01T00:00:00",
          "2011-12-01T00:00:00",
          "2012-01-01T00:00:00",
          "2012-02-01T00:00:00",
          "2012-03-01T00:00:00",
          "2012-04-01T00:00:00",
          "2012-05-01T00:00:00",
          "2012-06-01T00:00:00",
          "2012-07-01T00:00:00",
          "2012-08-01T00:00:00",
          "2012-09-01T00:00:00",
          "2012-10-01T00:00:00",
          "2012-11-01T00:00:00",
          "2012-12-01T00:00:00",
          "2013-01-01T00:00:00",
          "2013-02-01T00:00:00",
          "2013-03-01T00:00:00",
          "2013-04-01T00:00:00",
          "2013-05-01T00:00:00",
          "2013-06-01T00:00:00",
          "2013-07-01T00:00:00",
          "2013-08-01T00:00:00",
          "2013-09-01T00:00:00",
          "2013-10-01T00:00:00",
          "2013-11-01T00:00:00",
          "2013-12-01T00:00:00",
          "2014-01-01T00:00:00",
          "2014-02-01T00:00:00",
          "2014-03-01T00:00:00",
          "2014-04-01T00:00:00",
          "2014-05-01T00:00:00",
          "2014-06-01T00:00:00",
          "2014-07-01T00:00:00",
          "2014-08-01T00:00:00",
          "2014-09-01T00:00:00",
          "2014-10-01T00:00:00",
          "2014-11-01T00:00:00",
          "2014-12-01T00:00:00"
         ],
         "y": [
          null,
          null,
          176663.2776375744,
          167204.15006796026,
          163440.1206110845,
          172723.15482726498,
          166622.1330040728,
          191709.0988865983,
          172204.72056606627,
          216584.63890871956,
          275015.48322352907,
          331783.4122791641,
          262379.1517760778,
          212039.83190503824,
          189403.40339206852,
          156245.5767622515,
          163218.4157807313,
          173466.91888324148,
          207640.8230280774,
          265737.07321215107,
          247879.1789564766,
          283310.31724457827,
          293119.262682288,
          315036.433483711,
          290794.30202539655,
          237509.18125830815,
          219813.8198900864,
          233988.12861352146,
          248833.41953841673,
          228780.02953279155,
          277266.0124383243,
          349849.5122800776,
          348114.5364298221,
          398500.96814806305,
          450109.8094753581,
          459460.73242349084,
          447492.5719998344,
          371453.4646433161,
          346711.7743429608,
          306712.0539912734,
          303479.0314872202,
          298733.87758693204,
          323877.6227935491,
          405840.26668154646,
          434406.4430259765,
          536637.4588662558,
          592968.7444760734,
          582389.0966941966
         ]
        },
        {
         "hovertemplate": "%{x|%b %Y}<br>$%{y:,.0f}<extra></extra>",
         "mode": "lines+markers",
         "name": "Revenue",
         "type": "scatter",
         "x": [
          "2011-01-01T00:00:00",
          "2011-02-01T00:00:00",
          "2011-03-01T00:00:00",
          "2011-04-01T00:00:00",
          "2011-05-01T00:00:00",
          "2011-06-01T00:00:00",
          "2011-07-01T00:00:00",
          "2011-08-01T00:00:00",
          "2011-09-01T00:00:00",
          "2011-10-01T00:00:00",
          "2011-11-01T00:00:00",
          "2011-12-01T00:00:00",
          "2012-01-01T00:00:00",
          "2012-02-01T00:00:00",
          "2012-03-01T00:00:00",
          "2012-04-01T00:00:00",
          "2012-05-01T00:00:00",
          "2012-06-01T00:00:00",
          "2012-07-01T00:00:00",
          "2012-08-01T00:00:00",
          "2012-09-01T00:00:00",
          "2012-10-01T00:00:00",
          "2012-11-01T00:00:00",
          "2012-12-01T00:00:00",
          "2013-01-01T00:00:00",
          "2013-02-01T00:00:00",
          "2013-03-01T00:00:00",
          "2013-04-01T00:00:00",
          "2013-05-01T00:00:00",
          "2013-06-01T00:00:00",
          "2013-07-01T00:00:00",
          "2013-08-01T00:00:00",
          "2013-09-01T00:00:00",
          "2013-10-01T00:00:00",
          "2013-11-01T00:00:00",
          "2013-12-01T00:00:00",
          "2014-01-01T00:00:00",
          "2014-02-01T00:00:00",
          "2014-03-01T00:00:00",
          "2014-04-01T00:00:00",
          "2014-05-01T00:00:00",
          "2014-06-01T00:00:00",
          "2014-07-01T00:00:00",
          "2014-08-01T00:00:00",
          "2014-09-01T00:00:00",
          "2014-10-01T00:00:00",
          "2014-11-01T00:00:00",
          "2014-12-01T00:00:00"
         ],
         "y": [
          277864,
          168114,
          261895,
          182323,
          182691,
          256268,
          331816,
          312457,
          518107,
          389135,
          552657,
          517908,
          173049,
          172648,
          315692,
          227205,
          430974,
          400850,
          291835,
          410835,
          699593,
          328192,
          652611,
          521355,
          233077,
          236573,
          350130,
          398237,
          436100,
          654214,
          411052,
          493699,
          925204,
          615886,
          657398,
          764399,
          382989,
          294215,
          447229,
          386252,
          542143,
          789199,
          499623,
          645162,
          912963,
          816285,
          1033875,
          1309206
         ]
        }
       ],
       "layout": {
        "height": 420,
        "template": {
         "data": {
          "bar": [
           {
            "error_x": {
             "color": "#2a3f5f"
            },
            "error_y": {
             "color": "#2a3f5f"
            },
            "marker": {
             "line": {
              "color": "#E5ECF6",
              "width": 0.5
             },
             "pattern": {
              "fillmode": "overlay",
              "size": 10,
              "solidity": 0.2
             }
            },
            "type": "bar"
           }
          ],
          "barpolar": [
           {
            "marker": {
             "line": {
              "color": "#E5ECF6",
              "width": 0.5
             },
             "pattern": {
              "fillmode": "overlay",
              "size": 10,
              "solidity": 0.2
             }
            },
            "type": "barpolar"
           }
          ],
          "carpet": [
           {
            "aaxis": {
             "endlinecolor": "#2a3f5f",
             "gridcolor": "white",
             "linecolor": "white",
             "minorgridcolor": "white",
             "startlinecolor": "#2a3f5f"
            },
            "baxis": {
             "endlinecolor": "#2a3f5f",
             "gridcolor": "white",
             "linecolor": "white",
             "minorgridcolor": "white",
             "startlinecolor": "#2a3f5f"
            },
            "type": "carpet"
           }
          ],
          "choropleth": [
           {
            "colorbar": {
             "outlinewidth": 0,
             "ticks": ""
            },
            "type": "choropleth"
           }
          ],
          "contour": [
           {
            "colorbar": {
             "outlinewidth": 0,
             "ticks": ""
            },
            "colorscale": [
             [
              0,
              "#0d0887"
             ],
             [
              0.1111111111111111,
              "#46039f"
             ],
             [
              0.2222222222222222,
              "#7201a8"
             ],
             [
              0.3333333333333333,
              "#9c179e"
             ],
             [
              0.4444444444444444,
              "#bd3786"
             ],
             [
              0.5555555555555556,
              "#d8576b"
             ],
             [
              0.6666666666666666,
              "#ed7953"
             ],
             [
              0.7777777777777778,
              "#fb9f3a"
             ],
             [
              0.8888888888888888,
              "#fdca26"
             ],
             [
              1,
              "#f0f921"
             ]
            ],
            "type": "contour"
           }
          ],
          "contourcarpet": [
           {
            "colorbar": {
             "outlinewidth": 0,
             "ticks": ""
            },
            "type": "contourcarpet"
           }
          ],
          "heatmap": [
           {
            "colorbar": {
             "outlinewidth": 0,
             "ticks": ""
            },
            "colorscale": [
             [
              0,
              "#0d0887"
             ],
             [
              0.1111111111111111,
              "#46039f"
             ],
             [
              0.2222222222222222,
              "#7201a8"
             ],
             [
              0.3333333333333333,
              "#9c179e"
             ],
             [
              0.4444444444444444,
              "#bd3786"
             ],
             [
              0.5555555555555556,
              "#d8576b"
             ],
             [
              0.6666666666666666,
              "#ed7953"
             ],
             [
              0.7777777777777778,
              "#fb9f3a"
             ],
             [
              0.8888888888888888,
              "#fdca26"
             ],
             [
              1,
              "#f0f921"
             ]
            ],
            "type": "heatmap"
           }
          ],
          "heatmapgl": [
           {
            "colorbar": {
             "outlinewidth": 0,
             "ticks": ""
            },
            "colorscale": [
             [
              0,
              "#0d0887"
             ],
             [
              0.1111111111111111,
              "#46039f"
             ],
             [
              0.2222222222222222,
              "#7201a8"
             ],
             [
              0.3333333333333333,
              "#9c179e"
             ],
             [
              0.4444444444444444,
              "#bd3786"
             ],
             [
              0.5555555555555556,
              "#d8576b"
             ],
             [
              0.6666666666666666,
              "#ed7953"
             ],
             [
              0.7777777777777778,
              "#fb9f3a"
             ],
             [
              0.8888888888888888,
              "#fdca26"
             ],
             [
              1,
              "#f0f921"
             ]
            ],
            "type": "heatmapgl"
           }
          ],
          "histogram": [
           {
            "marker": {
             "pattern": {
              "fillmode": "overlay",
              "size": 10,
              "solidity": 0.2
             }
            },
            "type": "histogram"
           }
          ],
          "histogram2d": [
           {
            "colorbar": {
             "outlinewidth": 0,
             "ticks": ""
            },
            "colorscale": [
             [
              0,
              "#0d0887"
             ],
             [
              0.1111111111111111,
              "#46039f"
             ],
             [
              0.2222222222222222,
              "#7201a8"
             ],
             [
              0.3333333333333333,
              "#9c179e"
             ],
             [
              0.4444444444444444,
              "#bd3786"
             ],
             [
              0.5555555555555556,
              "#d8576b"
             ],
             [
              0.6666666666666666,
              "#ed7953"
             ],
             [
              0.7777777777777778,
              "#fb9f3a"
             ],
             [
              0.8888888888888888,
              "#fdca26"
             ],
             [
              1,
              "#f0f921"
             ]
            ],
            "type": "histogram2d"
           }
          ],
          "histogram2dcontour": [
           {
            "colorbar": {
             "outlinewidth": 0,
             "ticks": ""
            },
            "colorscale": [
             [
              0,
              "#0d0887"
             ],
             [
              0.1111111111111111,
              "#46039f"
             ],
             [
              0.2222222222222222,
              "#7201a8"
             ],
             [
              0.3333333333333333,
              "#9c179e"
             ],
             [
              0.4444444444444444,
              "#bd3786"
             ],
             [
              0.5555555555555556,
              "#d8576b"
             ],
             [
              0.6666666666666666,
              "#ed7953"
             ],
             [
              0.7777777777777778,
              "#fb9f3a"
             ],
             [
              0.8888888888888888,
              "#fdca26"
             ],
             [
              1,
              "#f0f921"
             ]
            ],
            "type": "histogram2dcontour"
           }
          ],
          "mesh3d": [
           {
            "colorbar": {
             "outlinewidth": 0,
             "ticks": ""
            },
            "type": "mesh3d"
           }
          ],
          "parcoords": [
           {
            "line": {
             "colorbar": {
              "outlinewidth": 0,
              "ticks": ""
             }
            },
            "type": "parcoords"
           }
          ],
          "pie": [
           {
            "automargin": true,
            "type": "pie"
           }
          ],
          "scatter": [
           {
            "fillpattern": {
             "fillmode": "overlay",
             "size": 10,
             "solidity": 0.2
            },
            "type": "scatter"
           }
          ],
          "scatter3d": [
           {
            "line": {
             "colorbar": {
              "outlinewidth": 0,
              "ticks": ""
             }
            },
            "marker": {
             "colorbar": {
              "outlinewidth": 0,
              "ticks": ""
             }
            },
            "type": "scatter3d"
           }
          ],
          "scattercarpet": [
           {
            "marker": {
             "colorbar": {
              "outlinewidth": 0,
              "ticks": ""
             }
            },
            "type": "scattercarpet"
           }
          ],
          "scattergeo": [
           {
            "marker": {
             "colorbar": {
              "outlinewidth": 0,
              "ticks": ""
             }
            },
            "type": "scattergeo"
           }
          ],
          "scattergl": [
           {
            "marker": {
             "colorbar": {
              "outlinewidth": 0,
              "ticks": ""
             }
            },
            "type": "scattergl"
           }
          ],
          "scattermapbox": [
           {
            "marker": {
             "colorbar": {
              "outlinewidth": 0,
              "ticks": ""
             }
            },
            "type": "scattermapbox"
           }
          ],
          "scatterpolar": [
           {
            "marker": {
             "colorbar": {
              "outlinewidth": 0,
              "ticks": ""
             }
            },
            "type": "scatterpolar"
           }
          ],
          "scatterpolargl": [
           {
            "marker": {
             "colorbar": {
              "outlinewidth": 0,
              "ticks": ""
             }
            },
            "type": "scatterpolargl"
           }
          ],
          "scatterternary": [
           {
            "marker": {
             "colorbar": {
              "outlinewidth": 0,
              "ticks": ""
             }
            },
            "type": "scatterternary"
           }
          ],
          "surface": [
           {
            "colorbar": {
             "outlinewidth": 0,
             "ticks": ""
            },
            "colorscale": [
             [
              0,
              "#0d0887"
             ],
             [
              0.1111111111111111,
              "#46039f"
             ],
             [
              0.2222222222222222,
              "#7201a8"
             ],
             [
              0.3333333333333333,
              "#9c179e"
             ],
             [
              0.4444444444444444,
              "#bd3786"
             ],
             [
              0.5555555555555556,
              "#d8576b"
             ],
             [
              0.6666666666666666,
              "#ed7953"
             ],
             [
              0.7777777777777778,
              "#fb9f3a"
             ],
             [
              0.8888888888888888,
              "#fdca26"
             ],
             [
              1,
              "#f0f921"
             ]
            ],
            "type": "surface"
           }
          ],
          "table": [
           {
            "cells": {
             "fill": {
              "color": "#EBF0F8"
             },
             "line": {
              "color": "white"
             }
            },
            "header": {
             "fill": {
              "color": "#C8D4E3"
             },
             "line": {
              "color": "white"
             }
            },
            "type": "table"
           }
          ]
         },
         "layout": {
          "annotationdefaults": {
           "arrowcolor": "#2a3f5f",
           "arrowhead": 0,
           "arrowwidth": 1
          },
          "autotypenumbers": "strict",
          "coloraxis": {
           "colorbar": {
            "outlinewidth": 0,
            "ticks": ""
           }
          },
          "colorscale": {
           "diverging": [
            [
             0,
             "#8e0152"
            ],
            [
             0.1,
             "#c51b7d"
            ],
            [
             0.2,
             "#de77ae"
            ],
            [
             0.3,
             "#f1b6da"
            ],
            [
             0.4,
             "#fde0ef"
            ],
            [
             0.5,
             "#f7f7f7"
            ],
            [
             0.6,
             "#e6f5d0"
            ],
            [
             0.7,
             "#b8e186"
            ],
            [
             0.8,
             "#7fbc41"
            ],
            [
             0.9,
             "#4d9221"
            ],
            [
             1,
             "#276419"
            ]
           ],
           "sequential": [
            [
             0,
             "#0d0887"
            ],
            [
             0.1111111111111111,
             "#46039f"
            ],
            [
             0.2222222222222222,
             "#7201a8"
            ],
            [
             0.3333333333333333,
             "#9c179e"
            ],
            [
             0.4444444444444444,
             "#bd3786"
            ],
            [
             0.5555555555555556,
             "#d8576b"
            ],
            [
             0.6666666666666666,
             "#ed7953"
            ],
            [
             0.7777777777777778,
             "#fb9f3a"
            ],
            [
             0.8888888888888888,
             "#fdca26"
            ],
            [
             1,
             "#f0f921"
            ]
           ],
           "sequentialminus": [
            [
             0,
             "#0d0887"
            ],
            [
             0.1111111111111111,
             "#46039f"
            ],
            [
             0.2222222222222222,
             "#7201a8"
            ],
            [
             0.3333333333333333,
             "#9c179e"
            ],
            [
             0.4444444444444444,
             "#bd3786"
            ],
            [
             0.5555555555555556,
             "#d8576b"
            ],
            [
             0.6666666666666666,
             "#ed7953"
            ],
            [
             0.7777777777777778,
             "#fb9f3a"
            ],
            [
             0.8888888888888888,
             "#fdca26"
            ],
            [
             1,
             "#f0f921"
            ]
           ]
          },
          "colorway": [
           "#636efa",
           "#EF553B",
           "#00cc96",
           "#ab63fa",
           "#FFA15A",
           "#19d3f3",
           "#FF6692",
           "#B6E880",
           "#FF97FF",
           "#FECB52"
          ],
          "font": {
           "color": "#2a3f5f"
          },
          "geo": {
           "bgcolor": "white",
           "lakecolor": "white",
           "landcolor": "#E5ECF6",
           "showlakes": true,
           "showland": true,
           "subunitcolor": "white"
          },
          "hoverlabel": {
           "align": "left"
          },
          "hovermode": "closest",
          "mapbox": {
           "style": "light"
          },
          "paper_bgcolor": "white",
          "plot_bgcolor": "#E5ECF6",
          "polar": {
           "angularaxis": {
            "gridcolor": "white",
            "linecolor": "white",
            "ticks": ""
           },
           "bgcolor": "#E5ECF6",
           "radialaxis": {
            "gridcolor": "white",
            "linecolor": "white",
            "ticks": ""
           }
          },
          "scene": {
           "xaxis": {
            "backgroundcolor": "#E5ECF6",
            "gridcolor": "white",
            "gridwidth": 2,
            "linecolor": "white",
            "showbackground": true,
            "ticks": "",
            "zerolinecolor": "white"
           },
           "yaxis": {
            "backgroundcolor": "#E5ECF6",
            "gridcolor": "white",
            "gridwidth": 2,
            "linecolor": "white",
            "showbackground": true,
            "ticks": "",
            "zerolinecolor": "white"
           },
           "zaxis": {
            "backgroundcolor": "#E5ECF6",
            "gridcolor": "white",
            "gridwidth": 2,
            "linecolor": "white",
            "showbackground": true,
            "ticks": "",
            "zerolinecolor": "white"
           }
          },
          "shapedefaults": {
           "line": {
            "color": "#2a3f5f"
           }
          },
          "ternary": {
           "aaxis": {
            "gridcolor": "white",
            "linecolor": "white",
            "ticks": ""
           },
           "baxis": {
            "gridcolor": "white",
            "linecolor": "white",
            "ticks": ""
           },
           "bgcolor": "#E5ECF6",
           "caxis": {
            "gridcolor": "white",
            "linecolor": "white",
            "ticks": ""
           }
          },
          "title": {
           "x": 0.05
          },
          "xaxis": {
           "automargin": true,
           "gridcolor": "white",
           "linecolor": "white",
           "ticks": "",
           "title": {
            "standoff": 15
           },
           "zerolinecolor": "white",
           "zerolinewidth": 2
          },
          "yaxis": {
           "automargin": true,
           "gridcolor": "white",
           "linecolor": "white",
           "ticks": "",
           "title": {
            "standoff": 15
           },
           "zerolinecolor": "white",
           "zerolinewidth": 2
          }
         }
        },
        "title": {
         "text": "Monthly Revenue (with Confidence Band & Anomalies)"
        },
        "xaxis": {
         "title": {}
        },
        "yaxis": {
         "title": {
          "text": "Revenue"
         }
        }
       }
      }
     },
     "metadata": {},
     "output_type": "display_data"
    }
   ],
   "source": [
    "fig_trend = go.Figure()\n",
    "\n",
    "# band\n",
    "fig_trend.add_traces([\n",
    "    go.Scatter(\n",
    "        x=monthly[\"date\"], y=monthly[\"band_high\"], line=dict(width=0), hoverinfo=\"skip\",\n",
    "        showlegend=False, name=\"Upper Band\"\n",
    "    ),\n",
    "    go.Scatter(\n",
    "        x=monthly[\"date\"], y=monthly[\"band_low\"], line=dict(width=0), fill=\"tonexty\",\n",
    "        hoverinfo=\"skip\", name=\"Confidence Band\", opacity=0.2\n",
    "    )\n",
    "])\n",
    "\n",
    "# actual\n",
    "fig_trend.add_trace(go.Scatter(\n",
    "    x=monthly[\"date\"], y=monthly[\"revenue\"], mode=\"lines+markers\",\n",
    "    name=\"Revenue\", hovertemplate=\"%{x|%b %Y}<br>$%{y:,.0f}<extra></extra>\"\n",
    "))\n",
    "\n",
    "# anomalies\n",
    "anoms = monthly[monthly[\"anomaly\"] & monthly[\"ma\"].notna()]\n",
    "if not anoms.empty:\n",
    "    fig_trend.add_trace(go.Scatter(\n",
    "        x=anoms[\"date\"], y=anoms[\"revenue\"], mode=\"markers\",\n",
    "        marker=dict(size=10, color=\"crimson\", symbol=\"diamond\"),\n",
    "        name=\"Anomaly\",\n",
    "        hovertemplate=\"⚠ %{x|%b %Y}<br>$%{y:,.0f}<extra></extra>\"\n",
    "    ))\n",
    "\n",
    "fig_trend.update_layout(\n",
    "    title=\"Monthly Revenue (with Confidence Band & Anomalies)\",\n",
    "    yaxis_title=\"Revenue\", xaxis_title=None, height=420\n",
    ")\n"
   ]
  },
  {
   "cell_type": "code",
   "execution_count": 25,
   "id": "e31426e7",
   "metadata": {},
   "outputs": [],
   "source": [
    "fig_cats = None\n",
    "fig_area = None\n",
    "\n",
    "if monthly_cat is not None:\n",
    "    latest_date = monthly_cat[\"date\"].max()\n",
    "    cat_col = next(c for c in monthly_cat.columns if c not in {\"date\",\"year\",\"month\",\"revenue\"})\n",
    "    top_latest = (\n",
    "        monthly_cat[monthly_cat[\"date\"] == latest_date]\n",
    "        .sort_values(\"revenue\", ascending=False).head(10)\n",
    "    )\n",
    "    fig_cats = px.bar(\n",
    "        top_latest, x=cat_col, y=\"revenue\",\n",
    "        title=f\"Top Categories — {latest_date.strftime('%b %Y')}\"\n",
    "    )\n",
    "    fig_cats.update_yaxes(title=\"Revenue\")\n",
    "\n",
    "    # stacked area share\n",
    "    pivot = monthly_cat.pivot_table(index=\"date\", columns=cat_col, values=\"revenue\", aggfunc=\"sum\").fillna(0)\n",
    "    pivot = pivot.loc[:, pivot.sum().sort_values(ascending=False).index[:8]]  # top 8 only\n",
    "    fig_area = go.Figure()\n",
    "    for c in pivot.columns:\n",
    "        fig_area.add_trace(go.Scatter(x=pivot.index, y=pivot[c], mode=\"lines\",\n",
    "                                      stackgroup=\"one\", name=c))\n",
    "    fig_area.update_layout(title=\"Category Contribution Over Time\", height=320)\n"
   ]
  },
  {
   "cell_type": "code",
   "execution_count": 26,
   "id": "af47a813",
   "metadata": {},
   "outputs": [
    {
     "data": {
      "application/vnd.plotly.v1+json": {
       "config": {
        "plotlyServerURL": "https://plot.ly"
       },
       "data": [
        {
         "hoverinfo": "skip",
         "line": {
          "width": 0
         },
         "name": "Upper Band",
         "showlegend": false,
         "type": "scatter",
         "x": [
          "2011-01-01T00:00:00",
          "2011-02-01T00:00:00",
          "2011-03-01T00:00:00",
          "2011-04-01T00:00:00",
          "2011-05-01T00:00:00",
          "2011-06-01T00:00:00",
          "2011-07-01T00:00:00",
          "2011-08-01T00:00:00",
          "2011-09-01T00:00:00",
          "2011-10-01T00:00:00",
          "2011-11-01T00:00:00",
          "2011-12-01T00:00:00",
          "2012-01-01T00:00:00",
          "2012-02-01T00:00:00",
          "2012-03-01T00:00:00",
          "2012-04-01T00:00:00",
          "2012-05-01T00:00:00",
          "2012-06-01T00:00:00",
          "2012-07-01T00:00:00",
          "2012-08-01T00:00:00",
          "2012-09-01T00:00:00",
          "2012-10-01T00:00:00",
          "2012-11-01T00:00:00",
          "2012-12-01T00:00:00",
          "2013-01-01T00:00:00",
          "2013-02-01T00:00:00",
          "2013-03-01T00:00:00",
          "2013-04-01T00:00:00",
          "2013-05-01T00:00:00",
          "2013-06-01T00:00:00",
          "2013-07-01T00:00:00",
          "2013-08-01T00:00:00",
          "2013-09-01T00:00:00",
          "2013-10-01T00:00:00",
          "2013-11-01T00:00:00",
          "2013-12-01T00:00:00",
          "2014-01-01T00:00:00",
          "2014-02-01T00:00:00",
          "2014-03-01T00:00:00",
          "2014-04-01T00:00:00",
          "2014-05-01T00:00:00",
          "2014-06-01T00:00:00",
          "2014-07-01T00:00:00",
          "2014-08-01T00:00:00",
          "2014-09-01T00:00:00",
          "2014-10-01T00:00:00",
          "2014-11-01T00:00:00",
          "2014-12-01T00:00:00"
         ],
         "xaxis": "x",
         "y": [
          null,
          null,
          295252.0556957589,
          277893.84993203974,
          265714.6793889155,
          270328.5118394017,
          294413.5336625939,
          317440.9011134017,
          422349.2794339337,
          446906.69442461384,
          511797.8501098043,
          542243.2543875024,
          558725.1815572556,
          562461.5014282952,
          517626.2632745981,
          496807.4232377485,
          449273.5842192687,
          400005.74778342515,
          405427.1769719226,
          426726.59345451556,
          572551.48771019,
          570782.6827554217,
          634852.737317712,
          653103.8998496224,
          657760.0313079369,
          652957.8187416919,
          554165.513443247,
          563339.5380531452,
          476323.91379491665,
          540663.637133875,
          551502.6542283423,
          564627.8210532558,
          758054.1302368446,
          780217.3651852702,
          802374.5238579751,
          829751.9342431759,
          832365.7613334989,
          841910.2020233506,
          707326.892323706,
          670781.9460087266,
          635596.6351794464,
          648608.4557464013,
          662342.7105397843,
          697362.3999851203,
          824040.8903073568,
          865154.2078004109,
          972733.5888572598,
          1156648.9033058034
         ],
         "yaxis": "y"
        },
        {
         "fill": "tonexty",
         "hoverinfo": "skip",
         "line": {
          "width": 0
         },
         "name": "Confidence Band",
         "opacity": 0.2,
         "type": "scatter",
         "x": [
          "2011-01-01T00:00:00",
          "2011-02-01T00:00:00",
          "2011-03-01T00:00:00",
          "2011-04-01T00:00:00",
          "2011-05-01T00:00:00",
          "2011-06-01T00:00:00",
          "2011-07-01T00:00:00",
          "2011-08-01T00:00:00",
          "2011-09-01T00:00:00",
          "2011-10-01T00:00:00",
          "2011-11-01T00:00:00",
          "2011-12-01T00:00:00",
          "2012-01-01T00:00:00",
          "2012-02-01T00:00:00",
          "2012-03-01T00:00:00",
          "2012-04-01T00:00:00",
          "2012-05-01T00:00:00",
          "2012-06-01T00:00:00",
          "2012-07-01T00:00:00",
          "2012-08-01T00:00:00",
          "2012-09-01T00:00:00",
          "2012-10-01T00:00:00",
          "2012-11-01T00:00:00",
          "2012-12-01T00:00:00",
          "2013-01-01T00:00:00",
          "2013-02-01T00:00:00",
          "2013-03-01T00:00:00",
          "2013-04-01T00:00:00",
          "2013-05-01T00:00:00",
          "2013-06-01T00:00:00",
          "2013-07-01T00:00:00",
          "2013-08-01T00:00:00",
          "2013-09-01T00:00:00",
          "2013-10-01T00:00:00",
          "2013-11-01T00:00:00",
          "2013-12-01T00:00:00",
          "2014-01-01T00:00:00",
          "2014-02-01T00:00:00",
          "2014-03-01T00:00:00",
          "2014-04-01T00:00:00",
          "2014-05-01T00:00:00",
          "2014-06-01T00:00:00",
          "2014-07-01T00:00:00",
          "2014-08-01T00:00:00",
          "2014-09-01T00:00:00",
          "2014-10-01T00:00:00",
          "2014-11-01T00:00:00",
          "2014-12-01T00:00:00"
         ],
         "xaxis": "x",
         "y": [
          null,
          null,
          176663.2776375744,
          167204.15006796026,
          163440.1206110845,
          172723.15482726498,
          166622.1330040728,
          191709.0988865983,
          172204.72056606627,
          216584.63890871956,
          275015.48322352907,
          331783.4122791641,
          262379.1517760778,
          212039.83190503824,
          189403.40339206852,
          156245.5767622515,
          163218.4157807313,
          173466.91888324148,
          207640.8230280774,
          265737.07321215107,
          247879.1789564766,
          283310.31724457827,
          293119.262682288,
          315036.433483711,
          290794.30202539655,
          237509.18125830815,
          219813.8198900864,
          233988.12861352146,
          248833.41953841673,
          228780.02953279155,
          277266.0124383243,
          349849.5122800776,
          348114.5364298221,
          398500.96814806305,
          450109.8094753581,
          459460.73242349084,
          447492.5719998344,
          371453.4646433161,
          346711.7743429608,
          306712.0539912734,
          303479.0314872202,
          298733.87758693204,
          323877.6227935491,
          405840.26668154646,
          434406.4430259765,
          536637.4588662558,
          592968.7444760734,
          582389.0966941966
         ],
         "yaxis": "y"
        },
        {
         "hovertemplate": "%{x|%b %Y}<br>$%{y:,.0f}<extra></extra>",
         "mode": "lines+markers",
         "name": "Revenue",
         "type": "scatter",
         "x": [
          "2011-01-01T00:00:00",
          "2011-02-01T00:00:00",
          "2011-03-01T00:00:00",
          "2011-04-01T00:00:00",
          "2011-05-01T00:00:00",
          "2011-06-01T00:00:00",
          "2011-07-01T00:00:00",
          "2011-08-01T00:00:00",
          "2011-09-01T00:00:00",
          "2011-10-01T00:00:00",
          "2011-11-01T00:00:00",
          "2011-12-01T00:00:00",
          "2012-01-01T00:00:00",
          "2012-02-01T00:00:00",
          "2012-03-01T00:00:00",
          "2012-04-01T00:00:00",
          "2012-05-01T00:00:00",
          "2012-06-01T00:00:00",
          "2012-07-01T00:00:00",
          "2012-08-01T00:00:00",
          "2012-09-01T00:00:00",
          "2012-10-01T00:00:00",
          "2012-11-01T00:00:00",
          "2012-12-01T00:00:00",
          "2013-01-01T00:00:00",
          "2013-02-01T00:00:00",
          "2013-03-01T00:00:00",
          "2013-04-01T00:00:00",
          "2013-05-01T00:00:00",
          "2013-06-01T00:00:00",
          "2013-07-01T00:00:00",
          "2013-08-01T00:00:00",
          "2013-09-01T00:00:00",
          "2013-10-01T00:00:00",
          "2013-11-01T00:00:00",
          "2013-12-01T00:00:00",
          "2014-01-01T00:00:00",
          "2014-02-01T00:00:00",
          "2014-03-01T00:00:00",
          "2014-04-01T00:00:00",
          "2014-05-01T00:00:00",
          "2014-06-01T00:00:00",
          "2014-07-01T00:00:00",
          "2014-08-01T00:00:00",
          "2014-09-01T00:00:00",
          "2014-10-01T00:00:00",
          "2014-11-01T00:00:00",
          "2014-12-01T00:00:00"
         ],
         "xaxis": "x",
         "y": [
          277864,
          168114,
          261895,
          182323,
          182691,
          256268,
          331816,
          312457,
          518107,
          389135,
          552657,
          517908,
          173049,
          172648,
          315692,
          227205,
          430974,
          400850,
          291835,
          410835,
          699593,
          328192,
          652611,
          521355,
          233077,
          236573,
          350130,
          398237,
          436100,
          654214,
          411052,
          493699,
          925204,
          615886,
          657398,
          764399,
          382989,
          294215,
          447229,
          386252,
          542143,
          789199,
          499623,
          645162,
          912963,
          816285,
          1033875,
          1309206
         ],
         "yaxis": "y"
        },
        {
         "alignmentgroup": "True",
         "hovertemplate": "category=%{x}<br>revenue=%{y}<extra></extra>",
         "legendgroup": "",
         "marker": {
          "color": "#636efa",
          "pattern": {
           "shape": ""
          }
         },
         "name": "",
         "offsetgroup": "",
         "orientation": "v",
         "showlegend": false,
         "textposition": "auto",
         "type": "bar",
         "x": [
          "office supplies",
          "furniture",
          "technology"
         ],
         "xaxis": "x2",
         "y": [
          773262,
          354846,
          181098
         ],
         "yaxis": "y2"
        },
        {
         "mode": "lines",
         "name": "office supplies",
         "stackgroup": "one",
         "type": "scatter",
         "x": [
          "2011-01-01T00:00:00",
          "2011-02-01T00:00:00",
          "2011-03-01T00:00:00",
          "2011-04-01T00:00:00",
          "2011-05-01T00:00:00",
          "2011-06-01T00:00:00",
          "2011-07-01T00:00:00",
          "2011-08-01T00:00:00",
          "2011-09-01T00:00:00",
          "2011-10-01T00:00:00",
          "2011-11-01T00:00:00",
          "2011-12-01T00:00:00",
          "2012-01-01T00:00:00",
          "2012-02-01T00:00:00",
          "2012-03-01T00:00:00",
          "2012-04-01T00:00:00",
          "2012-05-01T00:00:00",
          "2012-06-01T00:00:00",
          "2012-07-01T00:00:00",
          "2012-08-01T00:00:00",
          "2012-09-01T00:00:00",
          "2012-10-01T00:00:00",
          "2012-11-01T00:00:00",
          "2012-12-01T00:00:00",
          "2013-01-01T00:00:00",
          "2013-02-01T00:00:00",
          "2013-03-01T00:00:00",
          "2013-04-01T00:00:00",
          "2013-05-01T00:00:00",
          "2013-06-01T00:00:00",
          "2013-07-01T00:00:00",
          "2013-08-01T00:00:00",
          "2013-09-01T00:00:00",
          "2013-10-01T00:00:00",
          "2013-11-01T00:00:00",
          "2013-12-01T00:00:00",
          "2014-01-01T00:00:00",
          "2014-02-01T00:00:00",
          "2014-03-01T00:00:00",
          "2014-04-01T00:00:00",
          "2014-05-01T00:00:00",
          "2014-06-01T00:00:00",
          "2014-07-01T00:00:00",
          "2014-08-01T00:00:00",
          "2014-09-01T00:00:00",
          "2014-10-01T00:00:00",
          "2014-11-01T00:00:00",
          "2014-12-01T00:00:00"
         ],
         "xaxis": "x3",
         "y": [
          212494,
          59020,
          150559,
          80439,
          82048,
          65127,
          257663,
          128943,
          330825,
          238292,
          316328,
          228709,
          84347,
          96624,
          206331,
          110626,
          249237,
          220515,
          192937,
          129692,
          489281,
          99093,
          394239,
          290307,
          64990,
          120883,
          213547,
          197953,
          217673,
          296782,
          251402,
          227164,
          546183,
          361381,
          394727,
          454849,
          186282,
          164561,
          224816,
          152072,
          312099,
          507682,
          181931,
          306736,
          492365,
          402098,
          492711,
          773262
         ],
         "yaxis": "y3"
        },
        {
         "mode": "lines",
         "name": "furniture",
         "stackgroup": "one",
         "type": "scatter",
         "x": [
          "2011-01-01T00:00:00",
          "2011-02-01T00:00:00",
          "2011-03-01T00:00:00",
          "2011-04-01T00:00:00",
          "2011-05-01T00:00:00",
          "2011-06-01T00:00:00",
          "2011-07-01T00:00:00",
          "2011-08-01T00:00:00",
          "2011-09-01T00:00:00",
          "2011-10-01T00:00:00",
          "2011-11-01T00:00:00",
          "2011-12-01T00:00:00",
          "2012-01-01T00:00:00",
          "2012-02-01T00:00:00",
          "2012-03-01T00:00:00",
          "2012-04-01T00:00:00",
          "2012-05-01T00:00:00",
          "2012-06-01T00:00:00",
          "2012-07-01T00:00:00",
          "2012-08-01T00:00:00",
          "2012-09-01T00:00:00",
          "2012-10-01T00:00:00",
          "2012-11-01T00:00:00",
          "2012-12-01T00:00:00",
          "2013-01-01T00:00:00",
          "2013-02-01T00:00:00",
          "2013-03-01T00:00:00",
          "2013-04-01T00:00:00",
          "2013-05-01T00:00:00",
          "2013-06-01T00:00:00",
          "2013-07-01T00:00:00",
          "2013-08-01T00:00:00",
          "2013-09-01T00:00:00",
          "2013-10-01T00:00:00",
          "2013-11-01T00:00:00",
          "2013-12-01T00:00:00",
          "2014-01-01T00:00:00",
          "2014-02-01T00:00:00",
          "2014-03-01T00:00:00",
          "2014-04-01T00:00:00",
          "2014-05-01T00:00:00",
          "2014-06-01T00:00:00",
          "2014-07-01T00:00:00",
          "2014-08-01T00:00:00",
          "2014-09-01T00:00:00",
          "2014-10-01T00:00:00",
          "2014-11-01T00:00:00",
          "2014-12-01T00:00:00"
         ],
         "xaxis": "x3",
         "y": [
          34459,
          70863,
          44782,
          31345,
          44981,
          119447,
          31383,
          102614,
          95027,
          77416,
          122911,
          166294,
          42494,
          37902,
          55084,
          54111,
          97371,
          81478,
          41494,
          159903,
          95933,
          84826,
          155161,
          96848,
          115686,
          59121,
          65320,
          93767,
          107049,
          187654,
          71865,
          112309,
          240859,
          127805,
          122219,
          175223,
          101897,
          57702,
          126585,
          143327,
          137924,
          136157,
          148976,
          163529,
          249592,
          165021,
          318577,
          354846
         ],
         "yaxis": "y3"
        },
        {
         "mode": "lines",
         "name": "technology",
         "stackgroup": "one",
         "type": "scatter",
         "x": [
          "2011-01-01T00:00:00",
          "2011-02-01T00:00:00",
          "2011-03-01T00:00:00",
          "2011-04-01T00:00:00",
          "2011-05-01T00:00:00",
          "2011-06-01T00:00:00",
          "2011-07-01T00:00:00",
          "2011-08-01T00:00:00",
          "2011-09-01T00:00:00",
          "2011-10-01T00:00:00",
          "2011-11-01T00:00:00",
          "2011-12-01T00:00:00",
          "2012-01-01T00:00:00",
          "2012-02-01T00:00:00",
          "2012-03-01T00:00:00",
          "2012-04-01T00:00:00",
          "2012-05-01T00:00:00",
          "2012-06-01T00:00:00",
          "2012-07-01T00:00:00",
          "2012-08-01T00:00:00",
          "2012-09-01T00:00:00",
          "2012-10-01T00:00:00",
          "2012-11-01T00:00:00",
          "2012-12-01T00:00:00",
          "2013-01-01T00:00:00",
          "2013-02-01T00:00:00",
          "2013-03-01T00:00:00",
          "2013-04-01T00:00:00",
          "2013-05-01T00:00:00",
          "2013-06-01T00:00:00",
          "2013-07-01T00:00:00",
          "2013-08-01T00:00:00",
          "2013-09-01T00:00:00",
          "2013-10-01T00:00:00",
          "2013-11-01T00:00:00",
          "2013-12-01T00:00:00",
          "2014-01-01T00:00:00",
          "2014-02-01T00:00:00",
          "2014-03-01T00:00:00",
          "2014-04-01T00:00:00",
          "2014-05-01T00:00:00",
          "2014-06-01T00:00:00",
          "2014-07-01T00:00:00",
          "2014-08-01T00:00:00",
          "2014-09-01T00:00:00",
          "2014-10-01T00:00:00",
          "2014-11-01T00:00:00",
          "2014-12-01T00:00:00"
         ],
         "xaxis": "x3",
         "y": [
          30911,
          38231,
          66554,
          70539,
          55662,
          71694,
          42770,
          80900,
          92255,
          73427,
          113418,
          122905,
          46208,
          38122,
          54277,
          62468,
          84366,
          98857,
          57404,
          121240,
          114379,
          144273,
          103211,
          134200,
          52401,
          56569,
          71263,
          106517,
          111378,
          169778,
          87785,
          154226,
          138162,
          126700,
          140452,
          134327,
          94810,
          71952,
          95828,
          90853,
          92120,
          145360,
          168716,
          174897,
          171006,
          249166,
          222587,
          181098
         ],
         "yaxis": "y3"
        }
       ],
       "layout": {
        "annotations": [
         {
          "font": {
           "size": 16
          },
          "showarrow": false,
          "text": "Monthly Revenue",
          "x": 0.5,
          "xanchor": "center",
          "xref": "paper",
          "y": 1,
          "yanchor": "bottom",
          "yref": "paper"
         },
         {
          "font": {
           "size": 16
          },
          "showarrow": false,
          "text": "Top Categories (Latest Month)",
          "x": 0.5,
          "xanchor": "center",
          "xref": "paper",
          "y": 0.6399999999999999,
          "yanchor": "bottom",
          "yref": "paper"
         },
         {
          "font": {
           "size": 16
          },
          "showarrow": false,
          "text": "Category Contribution Over Time",
          "x": 0.5,
          "xanchor": "center",
          "xref": "paper",
          "y": 0.27999999999999997,
          "yanchor": "bottom",
          "yref": "paper"
         },
         {
          "align": "left",
          "showarrow": false,
          "text": "<b>Revenue</b>: $1.31M",
          "x": 0,
          "xref": "paper",
          "y": 1.12,
          "yref": "paper"
         },
         {
          "showarrow": false,
          "text": "<b>MoM</b>: +26.6%",
          "x": 0.35,
          "xref": "paper",
          "y": 1.12,
          "yref": "paper"
         },
         {
          "showarrow": false,
          "text": "<b>YoY</b>: +71.3%",
          "x": 0.55,
          "xref": "paper",
          "y": 1.12,
          "yref": "paper"
         },
         {
          "showarrow": false,
          "text": "<b>YTD</b>: $8.06M",
          "x": 0.75,
          "xref": "paper",
          "y": 1.12,
          "yref": "paper"
         }
        ],
        "height": 1000,
        "showlegend": true,
        "template": {
         "data": {
          "bar": [
           {
            "error_x": {
             "color": "#2a3f5f"
            },
            "error_y": {
             "color": "#2a3f5f"
            },
            "marker": {
             "line": {
              "color": "#E5ECF6",
              "width": 0.5
             },
             "pattern": {
              "fillmode": "overlay",
              "size": 10,
              "solidity": 0.2
             }
            },
            "type": "bar"
           }
          ],
          "barpolar": [
           {
            "marker": {
             "line": {
              "color": "#E5ECF6",
              "width": 0.5
             },
             "pattern": {
              "fillmode": "overlay",
              "size": 10,
              "solidity": 0.2
             }
            },
            "type": "barpolar"
           }
          ],
          "carpet": [
           {
            "aaxis": {
             "endlinecolor": "#2a3f5f",
             "gridcolor": "white",
             "linecolor": "white",
             "minorgridcolor": "white",
             "startlinecolor": "#2a3f5f"
            },
            "baxis": {
             "endlinecolor": "#2a3f5f",
             "gridcolor": "white",
             "linecolor": "white",
             "minorgridcolor": "white",
             "startlinecolor": "#2a3f5f"
            },
            "type": "carpet"
           }
          ],
          "choropleth": [
           {
            "colorbar": {
             "outlinewidth": 0,
             "ticks": ""
            },
            "type": "choropleth"
           }
          ],
          "contour": [
           {
            "colorbar": {
             "outlinewidth": 0,
             "ticks": ""
            },
            "colorscale": [
             [
              0,
              "#0d0887"
             ],
             [
              0.1111111111111111,
              "#46039f"
             ],
             [
              0.2222222222222222,
              "#7201a8"
             ],
             [
              0.3333333333333333,
              "#9c179e"
             ],
             [
              0.4444444444444444,
              "#bd3786"
             ],
             [
              0.5555555555555556,
              "#d8576b"
             ],
             [
              0.6666666666666666,
              "#ed7953"
             ],
             [
              0.7777777777777778,
              "#fb9f3a"
             ],
             [
              0.8888888888888888,
              "#fdca26"
             ],
             [
              1,
              "#f0f921"
             ]
            ],
            "type": "contour"
           }
          ],
          "contourcarpet": [
           {
            "colorbar": {
             "outlinewidth": 0,
             "ticks": ""
            },
            "type": "contourcarpet"
           }
          ],
          "heatmap": [
           {
            "colorbar": {
             "outlinewidth": 0,
             "ticks": ""
            },
            "colorscale": [
             [
              0,
              "#0d0887"
             ],
             [
              0.1111111111111111,
              "#46039f"
             ],
             [
              0.2222222222222222,
              "#7201a8"
             ],
             [
              0.3333333333333333,
              "#9c179e"
             ],
             [
              0.4444444444444444,
              "#bd3786"
             ],
             [
              0.5555555555555556,
              "#d8576b"
             ],
             [
              0.6666666666666666,
              "#ed7953"
             ],
             [
              0.7777777777777778,
              "#fb9f3a"
             ],
             [
              0.8888888888888888,
              "#fdca26"
             ],
             [
              1,
              "#f0f921"
             ]
            ],
            "type": "heatmap"
           }
          ],
          "heatmapgl": [
           {
            "colorbar": {
             "outlinewidth": 0,
             "ticks": ""
            },
            "colorscale": [
             [
              0,
              "#0d0887"
             ],
             [
              0.1111111111111111,
              "#46039f"
             ],
             [
              0.2222222222222222,
              "#7201a8"
             ],
             [
              0.3333333333333333,
              "#9c179e"
             ],
             [
              0.4444444444444444,
              "#bd3786"
             ],
             [
              0.5555555555555556,
              "#d8576b"
             ],
             [
              0.6666666666666666,
              "#ed7953"
             ],
             [
              0.7777777777777778,
              "#fb9f3a"
             ],
             [
              0.8888888888888888,
              "#fdca26"
             ],
             [
              1,
              "#f0f921"
             ]
            ],
            "type": "heatmapgl"
           }
          ],
          "histogram": [
           {
            "marker": {
             "pattern": {
              "fillmode": "overlay",
              "size": 10,
              "solidity": 0.2
             }
            },
            "type": "histogram"
           }
          ],
          "histogram2d": [
           {
            "colorbar": {
             "outlinewidth": 0,
             "ticks": ""
            },
            "colorscale": [
             [
              0,
              "#0d0887"
             ],
             [
              0.1111111111111111,
              "#46039f"
             ],
             [
              0.2222222222222222,
              "#7201a8"
             ],
             [
              0.3333333333333333,
              "#9c179e"
             ],
             [
              0.4444444444444444,
              "#bd3786"
             ],
             [
              0.5555555555555556,
              "#d8576b"
             ],
             [
              0.6666666666666666,
              "#ed7953"
             ],
             [
              0.7777777777777778,
              "#fb9f3a"
             ],
             [
              0.8888888888888888,
              "#fdca26"
             ],
             [
              1,
              "#f0f921"
             ]
            ],
            "type": "histogram2d"
           }
          ],
          "histogram2dcontour": [
           {
            "colorbar": {
             "outlinewidth": 0,
             "ticks": ""
            },
            "colorscale": [
             [
              0,
              "#0d0887"
             ],
             [
              0.1111111111111111,
              "#46039f"
             ],
             [
              0.2222222222222222,
              "#7201a8"
             ],
             [
              0.3333333333333333,
              "#9c179e"
             ],
             [
              0.4444444444444444,
              "#bd3786"
             ],
             [
              0.5555555555555556,
              "#d8576b"
             ],
             [
              0.6666666666666666,
              "#ed7953"
             ],
             [
              0.7777777777777778,
              "#fb9f3a"
             ],
             [
              0.8888888888888888,
              "#fdca26"
             ],
             [
              1,
              "#f0f921"
             ]
            ],
            "type": "histogram2dcontour"
           }
          ],
          "mesh3d": [
           {
            "colorbar": {
             "outlinewidth": 0,
             "ticks": ""
            },
            "type": "mesh3d"
           }
          ],
          "parcoords": [
           {
            "line": {
             "colorbar": {
              "outlinewidth": 0,
              "ticks": ""
             }
            },
            "type": "parcoords"
           }
          ],
          "pie": [
           {
            "automargin": true,
            "type": "pie"
           }
          ],
          "scatter": [
           {
            "fillpattern": {
             "fillmode": "overlay",
             "size": 10,
             "solidity": 0.2
            },
            "type": "scatter"
           }
          ],
          "scatter3d": [
           {
            "line": {
             "colorbar": {
              "outlinewidth": 0,
              "ticks": ""
             }
            },
            "marker": {
             "colorbar": {
              "outlinewidth": 0,
              "ticks": ""
             }
            },
            "type": "scatter3d"
           }
          ],
          "scattercarpet": [
           {
            "marker": {
             "colorbar": {
              "outlinewidth": 0,
              "ticks": ""
             }
            },
            "type": "scattercarpet"
           }
          ],
          "scattergeo": [
           {
            "marker": {
             "colorbar": {
              "outlinewidth": 0,
              "ticks": ""
             }
            },
            "type": "scattergeo"
           }
          ],
          "scattergl": [
           {
            "marker": {
             "colorbar": {
              "outlinewidth": 0,
              "ticks": ""
             }
            },
            "type": "scattergl"
           }
          ],
          "scattermapbox": [
           {
            "marker": {
             "colorbar": {
              "outlinewidth": 0,
              "ticks": ""
             }
            },
            "type": "scattermapbox"
           }
          ],
          "scatterpolar": [
           {
            "marker": {
             "colorbar": {
              "outlinewidth": 0,
              "ticks": ""
             }
            },
            "type": "scatterpolar"
           }
          ],
          "scatterpolargl": [
           {
            "marker": {
             "colorbar": {
              "outlinewidth": 0,
              "ticks": ""
             }
            },
            "type": "scatterpolargl"
           }
          ],
          "scatterternary": [
           {
            "marker": {
             "colorbar": {
              "outlinewidth": 0,
              "ticks": ""
             }
            },
            "type": "scatterternary"
           }
          ],
          "surface": [
           {
            "colorbar": {
             "outlinewidth": 0,
             "ticks": ""
            },
            "colorscale": [
             [
              0,
              "#0d0887"
             ],
             [
              0.1111111111111111,
              "#46039f"
             ],
             [
              0.2222222222222222,
              "#7201a8"
             ],
             [
              0.3333333333333333,
              "#9c179e"
             ],
             [
              0.4444444444444444,
              "#bd3786"
             ],
             [
              0.5555555555555556,
              "#d8576b"
             ],
             [
              0.6666666666666666,
              "#ed7953"
             ],
             [
              0.7777777777777778,
              "#fb9f3a"
             ],
             [
              0.8888888888888888,
              "#fdca26"
             ],
             [
              1,
              "#f0f921"
             ]
            ],
            "type": "surface"
           }
          ],
          "table": [
           {
            "cells": {
             "fill": {
              "color": "#EBF0F8"
             },
             "line": {
              "color": "white"
             }
            },
            "header": {
             "fill": {
              "color": "#C8D4E3"
             },
             "line": {
              "color": "white"
             }
            },
            "type": "table"
           }
          ]
         },
         "layout": {
          "annotationdefaults": {
           "arrowcolor": "#2a3f5f",
           "arrowhead": 0,
           "arrowwidth": 1
          },
          "autotypenumbers": "strict",
          "coloraxis": {
           "colorbar": {
            "outlinewidth": 0,
            "ticks": ""
           }
          },
          "colorscale": {
           "diverging": [
            [
             0,
             "#8e0152"
            ],
            [
             0.1,
             "#c51b7d"
            ],
            [
             0.2,
             "#de77ae"
            ],
            [
             0.3,
             "#f1b6da"
            ],
            [
             0.4,
             "#fde0ef"
            ],
            [
             0.5,
             "#f7f7f7"
            ],
            [
             0.6,
             "#e6f5d0"
            ],
            [
             0.7,
             "#b8e186"
            ],
            [
             0.8,
             "#7fbc41"
            ],
            [
             0.9,
             "#4d9221"
            ],
            [
             1,
             "#276419"
            ]
           ],
           "sequential": [
            [
             0,
             "#0d0887"
            ],
            [
             0.1111111111111111,
             "#46039f"
            ],
            [
             0.2222222222222222,
             "#7201a8"
            ],
            [
             0.3333333333333333,
             "#9c179e"
            ],
            [
             0.4444444444444444,
             "#bd3786"
            ],
            [
             0.5555555555555556,
             "#d8576b"
            ],
            [
             0.6666666666666666,
             "#ed7953"
            ],
            [
             0.7777777777777778,
             "#fb9f3a"
            ],
            [
             0.8888888888888888,
             "#fdca26"
            ],
            [
             1,
             "#f0f921"
            ]
           ],
           "sequentialminus": [
            [
             0,
             "#0d0887"
            ],
            [
             0.1111111111111111,
             "#46039f"
            ],
            [
             0.2222222222222222,
             "#7201a8"
            ],
            [
             0.3333333333333333,
             "#9c179e"
            ],
            [
             0.4444444444444444,
             "#bd3786"
            ],
            [
             0.5555555555555556,
             "#d8576b"
            ],
            [
             0.6666666666666666,
             "#ed7953"
            ],
            [
             0.7777777777777778,
             "#fb9f3a"
            ],
            [
             0.8888888888888888,
             "#fdca26"
            ],
            [
             1,
             "#f0f921"
            ]
           ]
          },
          "colorway": [
           "#636efa",
           "#EF553B",
           "#00cc96",
           "#ab63fa",
           "#FFA15A",
           "#19d3f3",
           "#FF6692",
           "#B6E880",
           "#FF97FF",
           "#FECB52"
          ],
          "font": {
           "color": "#2a3f5f"
          },
          "geo": {
           "bgcolor": "white",
           "lakecolor": "white",
           "landcolor": "#E5ECF6",
           "showlakes": true,
           "showland": true,
           "subunitcolor": "white"
          },
          "hoverlabel": {
           "align": "left"
          },
          "hovermode": "closest",
          "mapbox": {
           "style": "light"
          },
          "paper_bgcolor": "white",
          "plot_bgcolor": "#E5ECF6",
          "polar": {
           "angularaxis": {
            "gridcolor": "white",
            "linecolor": "white",
            "ticks": ""
           },
           "bgcolor": "#E5ECF6",
           "radialaxis": {
            "gridcolor": "white",
            "linecolor": "white",
            "ticks": ""
           }
          },
          "scene": {
           "xaxis": {
            "backgroundcolor": "#E5ECF6",
            "gridcolor": "white",
            "gridwidth": 2,
            "linecolor": "white",
            "showbackground": true,
            "ticks": "",
            "zerolinecolor": "white"
           },
           "yaxis": {
            "backgroundcolor": "#E5ECF6",
            "gridcolor": "white",
            "gridwidth": 2,
            "linecolor": "white",
            "showbackground": true,
            "ticks": "",
            "zerolinecolor": "white"
           },
           "zaxis": {
            "backgroundcolor": "#E5ECF6",
            "gridcolor": "white",
            "gridwidth": 2,
            "linecolor": "white",
            "showbackground": true,
            "ticks": "",
            "zerolinecolor": "white"
           }
          },
          "shapedefaults": {
           "line": {
            "color": "#2a3f5f"
           }
          },
          "ternary": {
           "aaxis": {
            "gridcolor": "white",
            "linecolor": "white",
            "ticks": ""
           },
           "baxis": {
            "gridcolor": "white",
            "linecolor": "white",
            "ticks": ""
           },
           "bgcolor": "#E5ECF6",
           "caxis": {
            "gridcolor": "white",
            "linecolor": "white",
            "ticks": ""
           }
          },
          "title": {
           "x": 0.05
          },
          "xaxis": {
           "automargin": true,
           "gridcolor": "white",
           "linecolor": "white",
           "ticks": "",
           "title": {
            "standoff": 15
           },
           "zerolinecolor": "white",
           "zerolinewidth": 2
          },
          "yaxis": {
           "automargin": true,
           "gridcolor": "white",
           "linecolor": "white",
           "ticks": "",
           "title": {
            "standoff": 15
           },
           "zerolinecolor": "white",
           "zerolinewidth": 2
          }
         }
        },
        "xaxis": {
         "anchor": "y",
         "domain": [
          0,
          1
         ]
        },
        "xaxis2": {
         "anchor": "y2",
         "domain": [
          0,
          1
         ]
        },
        "xaxis3": {
         "anchor": "y3",
         "domain": [
          0,
          1
         ]
        },
        "yaxis": {
         "anchor": "x",
         "domain": [
          0.72,
          1
         ]
        },
        "yaxis2": {
         "anchor": "x2",
         "domain": [
          0.36,
          0.6399999999999999
         ]
        },
        "yaxis3": {
         "anchor": "x3",
         "domain": [
          0,
          0.27999999999999997
         ]
        }
       }
      }
     },
     "metadata": {},
     "output_type": "display_data"
    },
    {
     "name": "stdout",
     "output_type": "stream",
     "text": [
      "Saved → /Users/meghanathota/retail_project/reports/retail_dashboard.html\n"
     ]
    }
   ],
   "source": [
    "# dashboard layout\n",
    "if fig_cats and fig_area:\n",
    "    dashboard = make_subplots(\n",
    "        rows=3, cols=1, shared_xaxes=False,\n",
    "        vertical_spacing=0.08,\n",
    "        subplot_titles=(\"Monthly Revenue\", \"Top Categories (Latest Month)\", \"Category Contribution Over Time\")\n",
    "    )\n",
    "    for tr in fig_trend.data: dashboard.add_trace(tr, row=1, col=1)\n",
    "    for tr in fig_cats.data:  dashboard.add_trace(tr, row=2, col=1)\n",
    "    for tr in fig_area.data:  dashboard.add_trace(tr, row=3, col=1)\n",
    "    dashboard.update_layout(height=1000, showlegend=True)\n",
    "elif fig_cats:\n",
    "    dashboard = make_subplots(\n",
    "        rows=2, cols=1, shared_xaxes=False, vertical_spacing=0.1,\n",
    "        subplot_titles=(\"Monthly Revenue\", \"Top Categories (Latest Month)\")\n",
    "    )\n",
    "    for tr in fig_trend.data: dashboard.add_trace(tr, row=1, col=1)\n",
    "    for tr in fig_cats.data:  dashboard.add_trace(tr, row=2, col=1)\n",
    "    dashboard.update_layout(height=820, showlegend=True)\n",
    "else:\n",
    "    dashboard = fig_trend\n",
    "\n",
    "# add KPI annotations at the top\n",
    "kpi_annotations = [\n",
    "    dict(x=0.0, y=1.12, xref=\"paper\", yref=\"paper\", text=f\"<b>Revenue</b>: {kpi_text['Revenue (latest)']}\", showarrow=False, align=\"left\"),\n",
    "    dict(x=0.35, y=1.12, xref=\"paper\", yref=\"paper\", text=f\"<b>MoM</b>: {kpi_text['MoM']}\", showarrow=False),\n",
    "    dict(x=0.55, y=1.12, xref=\"paper\", yref=\"paper\", text=f\"<b>YoY</b>: {kpi_text['YoY']}\", showarrow=False),\n",
    "    dict(x=0.75, y=1.12, xref=\"paper\", yref=\"paper\", text=f\"<b>YTD</b>: {kpi_text['YTD']}\", showarrow=False),\n",
    "]\n",
    "dashboard.update_layout(annotations=(dashboard.layout.annotations or []) + tuple(kpi_annotations))\n",
    "\n",
    "# show in notebook\n",
    "dashboard.show()\n",
    "\n",
    "# export\n",
    "outfile = REPORTS / \"retail_dashboard.html\"\n",
    "pio.write_html(dashboard, file=str(outfile), include_plotlyjs=\"cdn\", full_html=True)\n",
    "print(\"Saved →\", outfile)\n"
   ]
  },
  {
   "cell_type": "code",
   "execution_count": 27,
   "id": "280706ed",
   "metadata": {},
   "outputs": [],
   "source": [
    "import plotly.io as pio\n",
    "\n",
    "# Minimal, modern base template\n",
    "pio.templates[\"retail_clean\"] = go.layout.Template(\n",
    "    layout=go.Layout(\n",
    "        font=dict(family=\"Inter,Roboto,Arial,Helvetica,sans-serif\", size=13),\n",
    "        margin=dict(l=40, r=20, t=50, b=40),\n",
    "        paper_bgcolor=\"white\",\n",
    "        plot_bgcolor=\"white\",\n",
    "        xaxis=dict(showgrid=True, gridcolor=\"rgba(0,0,0,0.05)\"),\n",
    "        yaxis=dict(showgrid=True, gridcolor=\"rgba(0,0,0,0.05)\"),\n",
    "        legend=dict(orientation=\"h\", yanchor=\"bottom\", y=1.02, xanchor=\"left\", x=0),\n",
    "        hoverlabel=dict(bgcolor=\"white\")\n",
    "    )\n",
    ")\n",
    "pio.templates.default = \"retail_clean\"\n",
    "\n",
    "def money_tickformat():\n",
    "    # ticks like $1.2K / $1.2M\n",
    "    return \"$~s\"\n",
    "\n",
    "def add_currency_axis(fig, axis=\"y\"):\n",
    "    if axis == \"y\":\n",
    "        fig.update_yaxes(tickformat=money_tickformat())\n",
    "    else:\n",
    "        fig.update_xaxes(tickformat=money_tickformat())\n",
    "    return fig\n",
    "\n"
   ]
  },
  {
   "cell_type": "code",
   "execution_count": 28,
   "id": "d6ccac98",
   "metadata": {},
   "outputs": [
    {
     "data": {
      "application/vnd.plotly.v1+json": {
       "config": {
        "plotlyServerURL": "https://plot.ly"
       },
       "data": [
        {
         "hoverinfo": "skip",
         "line": {
          "width": 0
         },
         "showlegend": false,
         "type": "scatter",
         "x": [
          "2011-01-01T00:00:00",
          "2011-02-01T00:00:00",
          "2011-03-01T00:00:00",
          "2011-04-01T00:00:00",
          "2011-05-01T00:00:00",
          "2011-06-01T00:00:00",
          "2011-07-01T00:00:00",
          "2011-08-01T00:00:00",
          "2011-09-01T00:00:00",
          "2011-10-01T00:00:00",
          "2011-11-01T00:00:00",
          "2011-12-01T00:00:00",
          "2012-01-01T00:00:00",
          "2012-02-01T00:00:00",
          "2012-03-01T00:00:00",
          "2012-04-01T00:00:00",
          "2012-05-01T00:00:00",
          "2012-06-01T00:00:00",
          "2012-07-01T00:00:00",
          "2012-08-01T00:00:00",
          "2012-09-01T00:00:00",
          "2012-10-01T00:00:00",
          "2012-11-01T00:00:00",
          "2012-12-01T00:00:00",
          "2013-01-01T00:00:00",
          "2013-02-01T00:00:00",
          "2013-03-01T00:00:00",
          "2013-04-01T00:00:00",
          "2013-05-01T00:00:00",
          "2013-06-01T00:00:00",
          "2013-07-01T00:00:00",
          "2013-08-01T00:00:00",
          "2013-09-01T00:00:00",
          "2013-10-01T00:00:00",
          "2013-11-01T00:00:00",
          "2013-12-01T00:00:00",
          "2014-01-01T00:00:00",
          "2014-02-01T00:00:00",
          "2014-03-01T00:00:00",
          "2014-04-01T00:00:00",
          "2014-05-01T00:00:00",
          "2014-06-01T00:00:00",
          "2014-07-01T00:00:00",
          "2014-08-01T00:00:00",
          "2014-09-01T00:00:00",
          "2014-10-01T00:00:00",
          "2014-11-01T00:00:00",
          "2014-12-01T00:00:00"
         ],
         "y": [
          null,
          null,
          295252.0556957589,
          277893.84993203974,
          265714.6793889155,
          270328.5118394017,
          294413.5336625939,
          317440.9011134017,
          422349.2794339337,
          446906.69442461384,
          511797.8501098043,
          542243.2543875024,
          558725.1815572556,
          562461.5014282952,
          517626.2632745981,
          496807.4232377485,
          449273.5842192687,
          400005.74778342515,
          405427.1769719226,
          426726.59345451556,
          572551.48771019,
          570782.6827554217,
          634852.737317712,
          653103.8998496224,
          657760.0313079369,
          652957.8187416919,
          554165.513443247,
          563339.5380531452,
          476323.91379491665,
          540663.637133875,
          551502.6542283423,
          564627.8210532558,
          758054.1302368446,
          780217.3651852702,
          802374.5238579751,
          829751.9342431759,
          832365.7613334989,
          841910.2020233506,
          707326.892323706,
          670781.9460087266,
          635596.6351794464,
          648608.4557464013,
          662342.7105397843,
          697362.3999851203,
          824040.8903073568,
          865154.2078004109,
          972733.5888572598,
          1156648.9033058034
         ]
        },
        {
         "fill": "tonexty",
         "fillcolor": "rgba(0, 120, 255, 0.10)",
         "hoverinfo": "skip",
         "line": {
          "width": 0
         },
         "showlegend": false,
         "type": "scatter",
         "x": [
          "2011-01-01T00:00:00",
          "2011-02-01T00:00:00",
          "2011-03-01T00:00:00",
          "2011-04-01T00:00:00",
          "2011-05-01T00:00:00",
          "2011-06-01T00:00:00",
          "2011-07-01T00:00:00",
          "2011-08-01T00:00:00",
          "2011-09-01T00:00:00",
          "2011-10-01T00:00:00",
          "2011-11-01T00:00:00",
          "2011-12-01T00:00:00",
          "2012-01-01T00:00:00",
          "2012-02-01T00:00:00",
          "2012-03-01T00:00:00",
          "2012-04-01T00:00:00",
          "2012-05-01T00:00:00",
          "2012-06-01T00:00:00",
          "2012-07-01T00:00:00",
          "2012-08-01T00:00:00",
          "2012-09-01T00:00:00",
          "2012-10-01T00:00:00",
          "2012-11-01T00:00:00",
          "2012-12-01T00:00:00",
          "2013-01-01T00:00:00",
          "2013-02-01T00:00:00",
          "2013-03-01T00:00:00",
          "2013-04-01T00:00:00",
          "2013-05-01T00:00:00",
          "2013-06-01T00:00:00",
          "2013-07-01T00:00:00",
          "2013-08-01T00:00:00",
          "2013-09-01T00:00:00",
          "2013-10-01T00:00:00",
          "2013-11-01T00:00:00",
          "2013-12-01T00:00:00",
          "2014-01-01T00:00:00",
          "2014-02-01T00:00:00",
          "2014-03-01T00:00:00",
          "2014-04-01T00:00:00",
          "2014-05-01T00:00:00",
          "2014-06-01T00:00:00",
          "2014-07-01T00:00:00",
          "2014-08-01T00:00:00",
          "2014-09-01T00:00:00",
          "2014-10-01T00:00:00",
          "2014-11-01T00:00:00",
          "2014-12-01T00:00:00"
         ],
         "y": [
          null,
          null,
          176663.2776375744,
          167204.15006796026,
          163440.1206110845,
          172723.15482726498,
          166622.1330040728,
          191709.0988865983,
          172204.72056606627,
          216584.63890871956,
          275015.48322352907,
          331783.4122791641,
          262379.1517760778,
          212039.83190503824,
          189403.40339206852,
          156245.5767622515,
          163218.4157807313,
          173466.91888324148,
          207640.8230280774,
          265737.07321215107,
          247879.1789564766,
          283310.31724457827,
          293119.262682288,
          315036.433483711,
          290794.30202539655,
          237509.18125830815,
          219813.8198900864,
          233988.12861352146,
          248833.41953841673,
          228780.02953279155,
          277266.0124383243,
          349849.5122800776,
          348114.5364298221,
          398500.96814806305,
          450109.8094753581,
          459460.73242349084,
          447492.5719998344,
          371453.4646433161,
          346711.7743429608,
          306712.0539912734,
          303479.0314872202,
          298733.87758693204,
          323877.6227935491,
          405840.26668154646,
          434406.4430259765,
          536637.4588662558,
          592968.7444760734,
          582389.0966941966
         ]
        },
        {
         "hovertemplate": "<b>%{x|%b %Y}</b><br>$%{y:,.0f}<extra></extra>",
         "line": {
          "width": 2
         },
         "mode": "lines+markers",
         "name": "Revenue",
         "type": "scatter",
         "x": [
          "2011-01-01T00:00:00",
          "2011-02-01T00:00:00",
          "2011-03-01T00:00:00",
          "2011-04-01T00:00:00",
          "2011-05-01T00:00:00",
          "2011-06-01T00:00:00",
          "2011-07-01T00:00:00",
          "2011-08-01T00:00:00",
          "2011-09-01T00:00:00",
          "2011-10-01T00:00:00",
          "2011-11-01T00:00:00",
          "2011-12-01T00:00:00",
          "2012-01-01T00:00:00",
          "2012-02-01T00:00:00",
          "2012-03-01T00:00:00",
          "2012-04-01T00:00:00",
          "2012-05-01T00:00:00",
          "2012-06-01T00:00:00",
          "2012-07-01T00:00:00",
          "2012-08-01T00:00:00",
          "2012-09-01T00:00:00",
          "2012-10-01T00:00:00",
          "2012-11-01T00:00:00",
          "2012-12-01T00:00:00",
          "2013-01-01T00:00:00",
          "2013-02-01T00:00:00",
          "2013-03-01T00:00:00",
          "2013-04-01T00:00:00",
          "2013-05-01T00:00:00",
          "2013-06-01T00:00:00",
          "2013-07-01T00:00:00",
          "2013-08-01T00:00:00",
          "2013-09-01T00:00:00",
          "2013-10-01T00:00:00",
          "2013-11-01T00:00:00",
          "2013-12-01T00:00:00",
          "2014-01-01T00:00:00",
          "2014-02-01T00:00:00",
          "2014-03-01T00:00:00",
          "2014-04-01T00:00:00",
          "2014-05-01T00:00:00",
          "2014-06-01T00:00:00",
          "2014-07-01T00:00:00",
          "2014-08-01T00:00:00",
          "2014-09-01T00:00:00",
          "2014-10-01T00:00:00",
          "2014-11-01T00:00:00",
          "2014-12-01T00:00:00"
         ],
         "y": [
          277864,
          168114,
          261895,
          182323,
          182691,
          256268,
          331816,
          312457,
          518107,
          389135,
          552657,
          517908,
          173049,
          172648,
          315692,
          227205,
          430974,
          400850,
          291835,
          410835,
          699593,
          328192,
          652611,
          521355,
          233077,
          236573,
          350130,
          398237,
          436100,
          654214,
          411052,
          493699,
          925204,
          615886,
          657398,
          764399,
          382989,
          294215,
          447229,
          386252,
          542143,
          789199,
          499623,
          645162,
          912963,
          816285,
          1033875,
          1309206
         ]
        },
        {
         "hovertemplate": "Month +%{x}<br>$%{y:,.0f}<extra></extra>",
         "line": {
          "dash": "solid",
          "width": 2
         },
         "mode": "lines",
         "name": "Last 12M (Indexed)",
         "type": "scatter",
         "visible": "legendonly",
         "x": [
          0,
          1,
          2,
          3,
          4,
          5,
          6,
          7,
          8,
          9,
          10,
          11
         ],
         "y": [
          233077,
          236573,
          350130,
          398237,
          436100,
          654214,
          411052,
          493699,
          925204,
          615886,
          657398,
          764399
         ]
        },
        {
         "hovertemplate": "Month +%{x}<br>$%{y:,.0f}<extra></extra>",
         "line": {
          "dash": "dot",
          "width": 2
         },
         "mode": "lines",
         "name": "Prev 12M (Indexed)",
         "type": "scatter",
         "visible": "legendonly",
         "x": [
          0,
          1,
          2,
          3,
          4,
          5,
          6,
          7,
          8,
          9,
          10,
          11
         ],
         "y": [
          382989,
          294215,
          447229,
          386252,
          542143,
          789199,
          499623,
          645162,
          912963,
          816285,
          1033875,
          1309206
         ]
        }
       ],
       "layout": {
        "height": 450,
        "template": {
         "layout": {
          "font": {
           "family": "Inter,Roboto,Arial,Helvetica,sans-serif",
           "size": 13
          },
          "hoverlabel": {
           "bgcolor": "white"
          },
          "legend": {
           "orientation": "h",
           "x": 0,
           "xanchor": "left",
           "y": 1.02,
           "yanchor": "bottom"
          },
          "margin": {
           "b": 40,
           "l": 40,
           "r": 20,
           "t": 50
          },
          "paper_bgcolor": "white",
          "plot_bgcolor": "white",
          "xaxis": {
           "gridcolor": "rgba(0,0,0,0.05)",
           "showgrid": true
          },
          "yaxis": {
           "gridcolor": "rgba(0,0,0,0.05)",
           "showgrid": true
          }
         }
        },
        "title": {
         "text": "Monthly Revenue"
        },
        "xaxis": {
         "rangeselector": {
          "buttons": [
           {
            "count": 6,
            "label": "6M",
            "step": "month",
            "stepmode": "backward"
           },
           {
            "count": 12,
            "label": "12M",
            "step": "month",
            "stepmode": "backward"
           },
           {
            "label": "All",
            "step": "all"
           }
          ]
         },
         "rangeslider": {
          "visible": true
         }
        },
        "yaxis": {
         "tickformat": "$~s"
        }
       }
      }
     },
     "metadata": {},
     "output_type": "display_data"
    }
   ],
   "source": [
    "# Optional YoY overlay (align last 12 months vs previous 12)\n",
    "if len(monthly) >= 24:\n",
    "    base = monthly.tail(24).copy()\n",
    "    base[\"series\"] = [\"Last 12M\"]*12 + [\"Prev 12M\"]*12\n",
    "    base[\"pos\"] = list(range(12))*2\n",
    "    yoy_overlay = True\n",
    "else:\n",
    "    yoy_overlay = False\n",
    "\n",
    "fig_trend = go.Figure()\n",
    "\n",
    "# Smoothed confidence band (clip negatives, lighter fill)\n",
    "fig_trend.add_traces([\n",
    "    go.Scatter(\n",
    "        x=monthly[\"date\"], y=monthly[\"band_high\"], line=dict(width=0),\n",
    "        hoverinfo=\"skip\", showlegend=False\n",
    "    ),\n",
    "    go.Scatter(\n",
    "        x=monthly[\"date\"], y=monthly[\"band_low\"], line=dict(width=0),\n",
    "        fill=\"tonexty\", fillcolor=\"rgba(0, 120, 255, 0.10)\",\n",
    "        hoverinfo=\"skip\", showlegend=False\n",
    "    )\n",
    "])\n",
    "\n",
    "# Revenue line with markers\n",
    "fig_trend.add_trace(go.Scatter(\n",
    "    x=monthly[\"date\"], y=monthly[\"revenue\"], mode=\"lines+markers\",\n",
    "    name=\"Revenue\", line=dict(width=2),\n",
    "    hovertemplate=\"<b>%{x|%b %Y}</b><br>$%{y:,.0f}<extra></extra>\"\n",
    "))\n",
    "\n",
    "# Anomaly markers\n",
    "anoms = monthly[monthly[\"anomaly\"] & monthly[\"ma\"].notna()]\n",
    "if not anoms.empty:\n",
    "    fig_trend.add_trace(go.Scatter(\n",
    "        x=anoms[\"date\"], y=anoms[\"revenue\"], mode=\"markers\",\n",
    "        marker=dict(size=10, color=\"crimson\", symbol=\"diamond\"),\n",
    "        name=\"Anomaly\",\n",
    "        hovertemplate=\"⚠ %{x|%b %Y}<br>$%{y:,.0f}<extra></extra>\"\n",
    "    ))\n",
    "\n",
    "# YoY overlay as offset series (optional)\n",
    "if yoy_overlay:\n",
    "    last12 = base[base[\"series\"]==\"Last 12M\"]\n",
    "    prev12 = base[base[\"series\"]==\"Prev 12M\"]\n",
    "    fig_trend.add_trace(go.Scatter(\n",
    "        x=last12[\"pos\"], y=last12[\"revenue\"], mode=\"lines\",\n",
    "        name=\"Last 12M (Indexed)\", line=dict(width=2, dash=\"solid\"),\n",
    "        hovertemplate=\"Month +%{x}<br>$%{y:,.0f}<extra></extra>\", visible=\"legendonly\"\n",
    "    ))\n",
    "    fig_trend.add_trace(go.Scatter(\n",
    "        x=prev12[\"pos\"], y=prev12[\"revenue\"], mode=\"lines\",\n",
    "        name=\"Prev 12M (Indexed)\", line=dict(width=2, dash=\"dot\"),\n",
    "        hovertemplate=\"Month +%{x}<br>$%{y:,.0f}<extra></extra>\", visible=\"legendonly\"\n",
    "    ))\n",
    "\n",
    "fig_trend.update_layout(\n",
    "    title=\"Monthly Revenue\",\n",
    "    xaxis=dict(rangeslider=dict(visible=True), rangeselector=dict(\n",
    "        buttons=[\n",
    "            dict(count=6, step=\"month\", stepmode=\"backward\", label=\"6M\"),\n",
    "            dict(count=12, step=\"month\", stepmode=\"backward\", label=\"12M\"),\n",
    "            dict(step=\"all\", label=\"All\")\n",
    "        ]\n",
    "    )),\n",
    "    height=450\n",
    ")\n",
    "add_currency_axis(fig_trend, \"y\")\n"
   ]
  },
  {
   "cell_type": "code",
   "execution_count": 29,
   "id": "82e6f7f2",
   "metadata": {},
   "outputs": [],
   "source": [
    "# Build only if by-category table is available\n",
    "fig_cats = None\n",
    "if monthly_cat is not None:\n",
    "    cat_col = next(c for c in monthly_cat.columns if c not in {\"date\",\"year\",\"month\",\"revenue\"})\n",
    "    latest_date = monthly_cat[\"date\"].max()\n",
    "    top_latest = (monthly_cat[monthly_cat[\"date\"] == latest_date]\n",
    "                  .groupby(cat_col, as_index=False)[\"revenue\"].sum()\n",
    "                  .sort_values(\"revenue\", ascending=False))\n",
    "    # Pareto calc: cumulative share\n",
    "    top_latest[\"cum_share\"] = top_latest[\"revenue\"].cumsum() / top_latest[\"revenue\"].sum()\n",
    "    top10 = top_latest.head(15)  # show 15; adjust as you like\n",
    "\n",
    "    fig_cats = go.Figure()\n",
    "    fig_cats.add_trace(go.Bar(\n",
    "        x=top10[cat_col], y=top10[\"revenue\"], name=\"Revenue\",\n",
    "        hovertemplate=f\"%{{x}}<br>$%{{y:,.0f}}<extra></extra>\"\n",
    "    ))\n",
    "    fig_cats.add_trace(go.Scatter(\n",
    "        x=top10[cat_col], y=top10[\"cum_share\"]*100, name=\"Pareto %\",\n",
    "        mode=\"lines+markers\", yaxis=\"y2\",\n",
    "        hovertemplate=\"Cumulative: %{y:.1f}%<extra></extra>\"\n",
    "    ))\n",
    "    fig_cats.update_layout(\n",
    "        title=f\"Top Categories — {latest_date:%b %Y}\",\n",
    "        height=420,\n",
    "        yaxis=dict(title=\"Revenue\"),\n",
    "        yaxis2=dict(title=\"Cumulative %\", overlaying=\"y\", side=\"right\", rangemode=\"tozero\", tickformat=\".0f\")\n",
    "    )\n",
    "    add_currency_axis(fig_cats, \"y\")\n"
   ]
  },
  {
   "cell_type": "code",
   "execution_count": 30,
   "id": "b3d21a95",
   "metadata": {},
   "outputs": [],
   "source": [
    "fig_area = None\n",
    "if monthly_cat is not None:\n",
    "    cat_col = next(c for c in monthly_cat.columns if c not in {\"date\",\"year\",\"month\",\"revenue\"})\n",
    "    pivot = (monthly_cat.pivot_table(index=\"date\", columns=cat_col, values=\"revenue\", aggfunc=\"sum\")\n",
    "             .fillna(0))\n",
    "    top_cols = pivot.sum().sort_values(ascending=False).index[:8]\n",
    "    pivot = pivot[top_cols]\n",
    "\n",
    "    fig_area = go.Figure()\n",
    "    for c in pivot.columns:\n",
    "        fig_area.add_trace(go.Scatter(\n",
    "            x=pivot.index, y=pivot[c], mode=\"lines\", stackgroup=\"one\", name=c,\n",
    "            hovertemplate=\"<b>%{x|%b %Y}</b><br>$%{y:,.0f}<extra></extra>\"\n",
    "        ))\n",
    "    fig_area.update_layout(title=\"Category Contribution Over Time\", height=360)\n",
    "    add_currency_axis(fig_area, \"y\")\n"
   ]
  },
  {
   "cell_type": "code",
   "execution_count": 31,
   "id": "df0c14f5",
   "metadata": {},
   "outputs": [],
   "source": [
    "fig_map = None\n",
    "try:\n",
    "    # try from Silver if you saved country there; else skip\n",
    "    # If you have a gold-by-country table, read that instead.\n",
    "    # This quick attempt aggregates from monthly_cat if it contains 'country' (unlikely),\n",
    "    # otherwise it just won't run.\n",
    "    if monthly_cat is not None and \"country\" in monthly_cat.columns:\n",
    "        by_cty = (monthly_cat.groupby(\"country\", as_index=False)[\"revenue\"].sum())\n",
    "        fig_map = px.choropleth(\n",
    "            by_cty, locations=\"country\", locationmode=\"country names\",\n",
    "            color=\"revenue\", title=\"Revenue by Country (Total)\",\n",
    "            color_continuous_scale=\"Blues\"\n",
    "        )\n",
    "        fig_map.update_layout(height=420)\n",
    "        add_currency_axis(fig_map, \"color\")  # colorbar format\n",
    "except Exception:\n",
    "    fig_map = None\n"
   ]
  },
  {
   "cell_type": "code",
   "execution_count": 32,
   "id": "8c59f7a2",
   "metadata": {},
   "outputs": [],
   "source": [
    "# Simple insights from last 2 periods and latest category movers\n",
    "insights = []\n",
    "\n",
    "# MoM / YoY statements\n",
    "if pd.notna(mom):\n",
    "    insights.append(f\"Revenue {'increased' if mom>=0 else 'decreased'} {abs(mom):.1f}% vs last month.\")\n",
    "if pd.notna(yoy):\n",
    "    insights.append(f\"Revenue {'increased' if yoy>=0 else 'decreased'} {abs(yoy):.1f}% vs last year.\")\n",
    "\n",
    "# Top contributors this month (if categories available)\n",
    "if monthly_cat is not None:\n",
    "    cat_col = next(c for c in monthly_cat.columns if c not in {\"date\",\"year\",\"month\",\"revenue\"})\n",
    "    latest = monthly_cat[monthly_cat[\"date\"] == monthly_cat[\"date\"].max()]\n",
    "    top3 = (latest.groupby(cat_col, as_index=False)[\"revenue\"].sum()\n",
    "                 .sort_values(\"revenue\", ascending=False).head(3))\n",
    "    if not top3.empty:\n",
    "        plist = \", \".join([f\"{r[cat_col]} ({format_money(r['revenue'])})\" for _, r in top3.iterrows()])\n",
    "        insights.append(f\"Top contributors this month: {plist}.\")\n",
    "\n",
    "# Turn into HTML annotation\n",
    "insight_html = \"<br>\".join([f\"• {s}\" for s in insights]) if insights else \"• No major changes detected.\"\n"
   ]
  },
  {
   "cell_type": "code",
   "execution_count": null,
   "id": "1ffb3ee2",
   "metadata": {},
   "outputs": [
    {
     "name": "stdout",
     "output_type": "stream",
     "text": [
      "Saved → /Users/meghanathota/retail_project/reports/retail_dashboard_polished.html\n"
     ]
    }
   ],
   "source": [
    "from plotly.subplots import make_subplots\n",
    "\n",
    "# Build layout slots based on what exists\n",
    "rows = []\n",
    "if True: rows.append((\"Revenue Trend\", fig_trend))\n",
    "if fig_cats is not None: rows.append((\"Top Categories + Pareto\", fig_cats))\n",
    "if fig_area is not None: rows.append((\"Category Share Over Time\", fig_area))\n",
    "if fig_map  is not None: rows.append((\"Geo Revenue (Optional)\", fig_map))\n",
    "\n",
    "dashboard = make_subplots(\n",
    "    rows=len(rows), cols=1, shared_xaxes=False, vertical_spacing=0.08,\n",
    "    subplot_titles=[t for t,_ in rows]\n",
    ")\n",
    "for i, (_, fig) in enumerate(rows, start=1):\n",
    "    for tr in fig.data:\n",
    "        dashboard.add_trace(tr, row=i, col=1)\n",
    "\n",
    "dashboard.update_layout(height=380*len(rows) + 120, showlegend=True)\n",
    "\n",
    "# KPI badges as annotations\n",
    "kpi_annotations = [\n",
    "    dict(x=0.00, y=1.08, xref=\"paper\", yref=\"paper\", text=f\"<b>Revenue</b>: {format_money(last)}\", showarrow=False),\n",
    "    dict(x=0.33, y=1.08, xref=\"paper\", yref=\"paper\", text=f\"<b>MoM</b>: {('+' if mom>=0 else '')+f'{mom:.1f}%'}\" if pd.notna(mom) else \"<b>MoM</b>: -\", showarrow=False),\n",
    "    dict(x=0.56, y=1.08, xref=\"paper\", yref=\"paper\", text=f\"<b>YoY</b>: {('+' if yoy>=0 else '')+f'{yoy:.1f}%'}\" if pd.notna(yoy) else \"<b>YoY</b>: -\", showarrow=False),\n",
    "    dict(x=0.78, y=1.08, xref=\"paper\", yref=\"paper\", text=f\"<b>YTD</b>: {format_money(ytd)}\", showarrow=False),\n",
    "    dict(x=0.00, y=1.15, xref=\"paper\", yref=\"paper\",\n",
    "         text=\"<b>Retail Performance Dashboard</b>\", showarrow=False, font=dict(size=18)),\n",
    "    dict(x=0.00, y=1.02, xref=\"paper\", yref=\"paper\",\n",
    "         text=insight_html, showarrow=False, align=\"left\")\n",
    "]\n",
    "dashboard.update_layout(annotations=(dashboard.layout.annotations or []) + tuple(kpi_annotations))\n",
    "\n",
    "# Export\n",
    "REPORTS.mkdir(exist_ok=True)\n",
    "outfile = REPORTS / \"retail_dashboard_polished.html\"\n",
    "pio.write_html(dashboard, file=str(outfile), include_plotlyjs=\"cdn\", full_html=True)\n",
    "print(\"Saved →\", outfile)\n"
   ]
  },
  {
   "cell_type": "code",
   "execution_count": null,
   "id": "85d05470",
   "metadata": {},
   "outputs": [],
   "source": []
  }
 ],
 "metadata": {
  "kernelspec": {
   "display_name": "base",
   "language": "python",
   "name": "python3"
  },
  "language_info": {
   "codemirror_mode": {
    "name": "ipython",
    "version": 3
   },
   "file_extension": ".py",
   "mimetype": "text/x-python",
   "name": "python",
   "nbconvert_exporter": "python",
   "pygments_lexer": "ipython3",
   "version": "3.11.5"
  }
 },
 "nbformat": 4,
 "nbformat_minor": 5
}
